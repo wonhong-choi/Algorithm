{
 "cells": [
  {
   "cell_type": "markdown",
   "metadata": {},
   "source": [
    "# hashing"
   ]
  },
  {
   "cell_type": "markdown",
   "metadata": {},
   "source": [
    "- search, insert, delete == O(1) "
   ]
  },
  {
   "cell_type": "markdown",
   "metadata": {},
   "source": [
    "- Large values like phone number, string ... -> H() -> small values"
   ]
  },
  {
   "cell_type": "markdown",
   "metadata": {},
   "source": [
    "- How Hash function works?<br>\n",
    "1) should always map a large key to same small key<br>\n",
    "2) should generate value from 0 to m-1<br>\n",
    "3) should be fast, O(1) for integer, O(len) for string<br>\n",
    "4) should uniformly distribute large keys into hash table slot"
   ]
  },
  {
   "cell_type": "markdown",
   "metadata": {},
   "source": [
    "# implementation of chaining"
   ]
  },
  {
   "cell_type": "code",
   "execution_count": 7,
   "metadata": {},
   "outputs": [],
   "source": [
    "class ListNode:\n",
    "    def __init__(self,val,next=None):\n",
    "        self.val=val\n",
    "        self.next=next\n",
    "\n",
    "# it is not exactly hashset\n",
    "class HashSet:\n",
    "    def __init__(self,bucket):\n",
    "        self.bucket=[ListNode(-1)] * bucket\n",
    "        self.k=bucket\n",
    "        \n",
    "    def insert(self,val):\n",
    "        cur=self.bucket[val%self.k]\n",
    "        while cur.next:\n",
    "            cur=cur.next\n",
    "        cur.next=ListNode(val)\n",
    "    \n",
    "    def search(self,val):\n",
    "        cur=self.bucket[val%self.k]\n",
    "        while cur.next:\n",
    "            cur=cur.next\n",
    "            if cur.val==val:\n",
    "                return True\n",
    "        return False\n",
    "    \n",
    "    def delete(self,val):\n",
    "        cur=self.bucket[val%self.k]\n",
    "        prev=self.bucket[val%self.k]\n",
    "        while cur.next:\n",
    "            cur=cur.next\n",
    "            if cur.val==val:\n",
    "                prev.next=cur.next\n",
    "            prev=prev.next"
   ]
  },
  {
   "cell_type": "code",
   "execution_count": 8,
   "metadata": {},
   "outputs": [
    {
     "name": "stdout",
     "output_type": "stream",
     "text": [
      "True\n",
      "False\n"
     ]
    }
   ],
   "source": [
    "hashset=HashSet(7)\n",
    "hashset.insert(70)\n",
    "hashset.insert(71)\n",
    "hashset.insert(56)\n",
    "hashset.insert(72)\n",
    "print(hashset.search(56))\n",
    "hashset.delete(56)\n",
    "print(hashset.search(56))"
   ]
  },
  {
   "cell_type": "code",
   "execution_count": null,
   "metadata": {},
   "outputs": [],
   "source": []
  }
 ],
 "metadata": {
  "kernelspec": {
   "display_name": "Python 3",
   "language": "python",
   "name": "python3"
  },
  "language_info": {
   "codemirror_mode": {
    "name": "ipython",
    "version": 3
   },
   "file_extension": ".py",
   "mimetype": "text/x-python",
   "name": "python",
   "nbconvert_exporter": "python",
   "pygments_lexer": "ipython3",
   "version": "3.8.5"
  }
 },
 "nbformat": 4,
 "nbformat_minor": 4
}
