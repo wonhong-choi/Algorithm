{
 "cells": [
  {
   "cell_type": "markdown",
   "metadata": {},
   "source": [
    "# matrix in snake pattern"
   ]
  },
  {
   "cell_type": "code",
   "execution_count": 6,
   "metadata": {},
   "outputs": [],
   "source": [
    "# T/C: O(m*n)\n",
    "# S/C: O(m*n)\n",
    "def snake_traversal(mat):\n",
    "    output=[]\n",
    "    direction=1\n",
    "    for row in mat:\n",
    "        if direction>0:\n",
    "            for num in row:\n",
    "                output.append(num)\n",
    "        else:\n",
    "            for i in range(len(row)-1,-1,-1):\n",
    "                output.append(row[i])\n",
    "        direction*=-1\n",
    "    return output\n",
    "            "
   ]
  },
  {
   "cell_type": "code",
   "execution_count": 7,
   "metadata": {},
   "outputs": [
    {
     "data": {
      "text/plain": [
       "[1, 2, 3, 6, 5, 4, 7, 8, 9, 12, 11, 10]"
      ]
     },
     "execution_count": 7,
     "metadata": {},
     "output_type": "execute_result"
    }
   ],
   "source": [
    "mat=[[1,2,3],[4,5,6],[7,8,9],[10,11,12]]\n",
    "snake_traversal(mat)"
   ]
  },
  {
   "cell_type": "markdown",
   "metadata": {},
   "source": [
    "# matrix boundary traversal"
   ]
  },
  {
   "cell_type": "code",
   "execution_count": 18,
   "metadata": {},
   "outputs": [],
   "source": [
    "# T/C: O(m+n)\n",
    "# S/C: O(m+n)\n",
    "def boundary_traversal(mat):\n",
    "    output=[]\n",
    "    if len(mat)==1:\n",
    "        for num in mat[0]:\n",
    "            output.append(num)\n",
    "    elif len(mat[0])==1:\n",
    "        for row in mat:\n",
    "            output.append(row[0])\n",
    "    else:\n",
    "        for i in range(len(mat[0])):\n",
    "            output.append(mat[0][i])\n",
    "        for i in range(1,len(mat)):\n",
    "            output.append(mat[i][-1])\n",
    "        for i in range(len(mat[-1])-2,-1,-1):\n",
    "            output.append(mat[-1][i])\n",
    "        for i in range(len(mat)-2,0,-1):\n",
    "            output.append(mat[i][0])\n",
    "    return output"
   ]
  },
  {
   "cell_type": "code",
   "execution_count": 20,
   "metadata": {},
   "outputs": [
    {
     "data": {
      "text/plain": [
       "[1, 2, 3, 6, 9, 12, 11, 10, 7, 4]"
      ]
     },
     "execution_count": 20,
     "metadata": {},
     "output_type": "execute_result"
    }
   ],
   "source": [
    "mat=[[1,2,3],[4,5,6],[7,8,9],[10,11,12]]\n",
    "boundary_traversal(mat)"
   ]
  },
  {
   "cell_type": "markdown",
   "metadata": {},
   "source": [
    "# transpose matrix"
   ]
  },
  {
   "cell_type": "code",
   "execution_count": 23,
   "metadata": {},
   "outputs": [],
   "source": [
    "# naive solution\n",
    "# T/C: O(n^2)\n",
    "# S/C: O(n^2)\n",
    "def transpose1(mat):\n",
    "    m,n=len(mat),len(mat[0])\n",
    "    tmp=[[0 for i in range(n)] for j in range(m)]\n",
    "    for i in range(m):\n",
    "        for j in range(n):\n",
    "            tmp[j][i]=mat[i][j]\n",
    "    for i in range(m):\n",
    "        for j in range(n):\n",
    "            mat[i][j]=tmp[i][j]"
   ]
  },
  {
   "cell_type": "code",
   "execution_count": 26,
   "metadata": {},
   "outputs": [
    {
     "name": "stdout",
     "output_type": "stream",
     "text": [
      "[[1, 4, 7], [2, 5, 8], [3, 6, 9]]\n"
     ]
    }
   ],
   "source": [
    "mat=[[1,2,3],[4,5,6],[7,8,9]]\n",
    "transpose1(mat)\n",
    "print(mat)"
   ]
  },
  {
   "cell_type": "code",
   "execution_count": 33,
   "metadata": {},
   "outputs": [],
   "source": [
    "# in-place solution\n",
    "# T/C: O(n^2)\n",
    "# S/C: O(1)\n",
    "def transpose2(mat):\n",
    "    for i in range(len(mat)):\n",
    "        for j in range(i+1,len(mat[0])):\n",
    "            mat[i][j],mat[j][i]=mat[j][i],mat[i][j]"
   ]
  },
  {
   "cell_type": "code",
   "execution_count": 32,
   "metadata": {},
   "outputs": [
    {
     "name": "stdout",
     "output_type": "stream",
     "text": [
      "[[1, 4, 7], [2, 5, 8], [3, 6, 9]]\n"
     ]
    }
   ],
   "source": [
    "mat=[[1,2,3],[4,5,6],[7,8,9]]\n",
    "transpose2(mat)\n",
    "print(mat)"
   ]
  },
  {
   "cell_type": "markdown",
   "metadata": {},
   "source": [
    "# rotate matrix anti-clockwise 90 degree"
   ]
  },
  {
   "cell_type": "markdown",
   "metadata": {},
   "source": [
    "- last column become first row\n",
    "- second last column become second row\n",
    "- ..."
   ]
  },
  {
   "cell_type": "code",
   "execution_count": 44,
   "metadata": {},
   "outputs": [],
   "source": [
    "# naive solution\n",
    "# T/C: O(n^2)\n",
    "# S/C: O(n^2)\n",
    "def rotate1(mat):\n",
    "    n=len(mat)\n",
    "    tmp=[[0 for i in range(n)] for j in range(n)]\n",
    "    for i in range(n):\n",
    "        for j in range(n):\n",
    "            tmp[i][j]=mat[j][n-i-1]\n",
    "    for i in range(n):\n",
    "        for j in range(n):\n",
    "            mat[i][j]=tmp[i][j]"
   ]
  },
  {
   "cell_type": "code",
   "execution_count": 45,
   "metadata": {},
   "outputs": [
    {
     "name": "stdout",
     "output_type": "stream",
     "text": [
      "[[3, 6, 9], [2, 5, 8], [1, 4, 7]]\n"
     ]
    }
   ],
   "source": [
    "mat=[[1,2,3],[4,5,6],[7,8,9]]\n",
    "rotate1(mat)\n",
    "print(mat)"
   ]
  },
  {
   "cell_type": "markdown",
   "metadata": {},
   "source": [
    "- inplace way\n",
    "- 1) reverse row wise, and then, transpose\n",
    "- 2) transpose, and then, reverse individual columns"
   ]
  },
  {
   "cell_type": "code",
   "execution_count": 54,
   "metadata": {},
   "outputs": [],
   "source": [
    "# in-place solution\n",
    "# T/C: O(n^2)\n",
    "# S/C: O(1)\n",
    "def rotate2(mat):\n",
    "    def reverse_row_wise(mat):\n",
    "        for i in range(len(mat)):\n",
    "            left,right=0,len(mat[i])-1\n",
    "            while left<right:\n",
    "                mat[i][left],mat[i][right]=mat[i][right],mat[i][left]\n",
    "                left+=1\n",
    "                right-=1\n",
    "    reverse_row_wise(mat)\n",
    "    transpose2(mat)\n",
    "\n",
    "def rotate3(mat):\n",
    "    transpose2(mat)\n",
    "    for i in range(len(mat)//2):\n",
    "        mat[i],mat[len(mat)-1-i]=mat[len(mat)-1-i],mat[i]"
   ]
  },
  {
   "cell_type": "code",
   "execution_count": 55,
   "metadata": {},
   "outputs": [
    {
     "name": "stdout",
     "output_type": "stream",
     "text": [
      "[[3, 6, 9], [2, 5, 8], [1, 4, 7]]\n"
     ]
    }
   ],
   "source": [
    "mat=[[1,2,3],[4,5,6],[7,8,9]]\n",
    "rotate3(mat)\n",
    "print(mat)"
   ]
  },
  {
   "cell_type": "markdown",
   "metadata": {},
   "source": [
    "# spiral traversal of matrix"
   ]
  },
  {
   "cell_type": "code",
   "execution_count": 63,
   "metadata": {},
   "outputs": [],
   "source": [
    "# double-two-pointer\n",
    "# T/C: O(m*n)\n",
    "# S/C: O(m*n)\n",
    "def spiral_traversal(mat):\n",
    "    m,n=len(mat),len(mat[0])\n",
    "    top,bottom,left,right=0,m-1,0,n-1\n",
    "    \n",
    "    output=[]\n",
    "    direction=0\n",
    "    while top<=bottom and left<=right:\n",
    "        if direction==0:\n",
    "            for i in range(left,right+1):\n",
    "                output.append(mat[top][i])\n",
    "            top+=1\n",
    "        elif direction==1:\n",
    "            for i in range(top,bottom+1):\n",
    "                output.append(mat[i][right])\n",
    "            right-=1\n",
    "        elif direction==2:\n",
    "            for i in range(right,left-1,-1):\n",
    "                output.append(mat[bottom][i])\n",
    "            bottom-=1\n",
    "        else:\n",
    "            for i in range(bottom,top-1,-1):\n",
    "                output.append(mat[i][left])\n",
    "            left+=1\n",
    "        direction=(direction+1)%4\n",
    "    return output"
   ]
  },
  {
   "cell_type": "code",
   "execution_count": 64,
   "metadata": {},
   "outputs": [
    {
     "name": "stdout",
     "output_type": "stream",
     "text": [
      "[1, 2, 3, 6, 9, 8, 7, 4, 5]\n"
     ]
    }
   ],
   "source": [
    "mat=[[1,2,3,4,5],[6,7,8,9,10],[11,12,13,14,15],[16,17,18,19,20],[21,22,23,24,25]]\n",
    "mat2=[[1,2,3],[4,5,6],[7,8,9]]\n",
    "print(spiral_traversal(mat2))"
   ]
  },
  {
   "cell_type": "code",
   "execution_count": null,
   "metadata": {},
   "outputs": [],
   "source": []
  }
 ],
 "metadata": {
  "kernelspec": {
   "display_name": "Python 3",
   "language": "python",
   "name": "python3"
  },
  "language_info": {
   "codemirror_mode": {
    "name": "ipython",
    "version": 3
   },
   "file_extension": ".py",
   "mimetype": "text/x-python",
   "name": "python",
   "nbconvert_exporter": "python",
   "pygments_lexer": "ipython3",
   "version": "3.8.5"
  }
 },
 "nbformat": 4,
 "nbformat_minor": 4
}
