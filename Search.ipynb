{
 "cells": [
  {
   "cell_type": "markdown",
   "id": "48a0c4d3",
   "metadata": {},
   "source": [
    "###### Index of First Occurrence in Sorted array\n",
    "- I/P : arr[]=[1,10,10,10,20,20,40], x=20 <br>\n",
    "- O/P : 4"
   ]
  },
  {
   "cell_type": "code",
   "execution_count": 1,
   "id": "fe706a2d",
   "metadata": {},
   "outputs": [],
   "source": [
    "# naive solution\n",
    "# T/C: O(n)\n",
    "# S/C: O(1)\n",
    "\n",
    "def firstIndex(nums,target):\n",
    "    i=0\n",
    "    for num in nums:\n",
    "        if num==target:\n",
    "            return i\n",
    "        i+=1\n",
    "    return -1 # not found"
   ]
  },
  {
   "cell_type": "code",
   "execution_count": 7,
   "id": "16d8e2f1",
   "metadata": {},
   "outputs": [],
   "source": [
    "# Binary Search\n",
    "# T/C: O(logn)\n",
    "# S/C: O(1)\n",
    "\n",
    "def firstIndex2(nums,target):\n",
    "    left,right=0,len(nums)-1\n",
    "    while left<right:\n",
    "        mid=(left+right)//2\n",
    "        if nums[mid]<target:\n",
    "            left=mid+1\n",
    "        else:\n",
    "            right=mid\n",
    "    return right"
   ]
  },
  {
   "cell_type": "code",
   "execution_count": 2,
   "id": "5e335619",
   "metadata": {},
   "outputs": [
    {
     "data": {
      "text/plain": [
       "1"
      ]
     },
     "execution_count": 2,
     "metadata": {},
     "output_type": "execute_result"
    }
   ],
   "source": [
    "firstIndex2([1,10,10,10,20,20,40],10)"
   ]
  },
  {
   "cell_type": "markdown",
   "id": "35292f46",
   "metadata": {},
   "source": [
    "###### Index of Last Occurrence in Sorted array\n",
    "- I/P : arr[]=[1,10,10,10,20,20,40], x=20 <br>\n",
    "- O/P : 5"
   ]
  },
  {
   "cell_type": "code",
   "execution_count": 3,
   "id": "5e6a5fa7",
   "metadata": {},
   "outputs": [],
   "source": [
    "# naive solution\n",
    "# T/C: O(n)\n",
    "# S/C: O(1)\n",
    "\n",
    "def lastIndex(nums,target):\n",
    "    idx=-1\n",
    "    i=0\n",
    "    while i<len(nums):\n",
    "        if nums[i]==target:\n",
    "            idx=i\n",
    "    return idx"
   ]
  },
  {
   "cell_type": "code",
   "execution_count": 4,
   "id": "6cdbedcc",
   "metadata": {},
   "outputs": [],
   "source": [
    "# binary search\n",
    "# T/C: O(logn)\n",
    "# S/C: O(1)\n",
    "\n",
    "def lastIndex2(nums,target):\n",
    "    left,right=0,len(nums)-1\n",
    "    while left<=right:\n",
    "        mid=(left+right)//2\n",
    "        \n",
    "        if nums[mid]<target:\n",
    "            left=mid+1\n",
    "        elif nums[mid]>target:\n",
    "            right=mid-1\n",
    "        else:\n",
    "            if mid!=len(nums)-1 or nums[mid]!=nums[mid+1]:\n",
    "                return mid\n",
    "            else:\n",
    "                left=mid+1\n",
    "    return -1"
   ]
  },
  {
   "cell_type": "code",
   "execution_count": null,
   "id": "bcfd67fd",
   "metadata": {},
   "outputs": [],
   "source": []
  },
  {
   "cell_type": "markdown",
   "id": "dd466094",
   "metadata": {},
   "source": [
    "###### Count Occurrences in Sorted array\n",
    "- I/P : arr[]=[10,20,20,20,30,30], x=20 <br>\n",
    "- O/P : 3"
   ]
  },
  {
   "cell_type": "code",
   "execution_count": 2,
   "id": "c2052436",
   "metadata": {},
   "outputs": [],
   "source": [
    "# naive solution\n",
    "# T/C: O(n)\n",
    "# S/C: O(1)\n",
    "\n",
    "def countTarget(nums,target):\n",
    "    count=0\n",
    "    for num in nums:\n",
    "        if num==target:\n",
    "            count+=1\n",
    "    return count"
   ]
  },
  {
   "cell_type": "code",
   "execution_count": 3,
   "id": "a0c73331",
   "metadata": {},
   "outputs": [],
   "source": [
    "# Binary Search\n",
    "# T/C: O(logn)\n",
    "# S/C: O(1)\n",
    "# get first index and last index\n",
    "\n",
    "def countTarget2(nums,target):\n",
    "    first=firstIndex2(nums,target)\n",
    "    if first==-1:\n",
    "        return 0\n",
    "    else:\n",
    "        return lastIndex2(nums,target)-first+1"
   ]
  },
  {
   "cell_type": "code",
   "execution_count": null,
   "id": "974751ca",
   "metadata": {},
   "outputs": [],
   "source": []
  },
  {
   "cell_type": "markdown",
   "id": "613ff0cd",
   "metadata": {},
   "source": [
    "###### Count 1s in a sorted binary array\n",
    "- I/P : arr[]=[0,0,0,1,1,1,1]\n",
    "- O/P : 3"
   ]
  },
  {
   "cell_type": "code",
   "execution_count": 5,
   "id": "fc06bb19",
   "metadata": {},
   "outputs": [],
   "source": [
    "# naive solution\n",
    "# T/C: O(n)\n",
    "# S/C: O(1)\n",
    "\n",
    "def countOnes(nums):\n",
    "    i=0\n",
    "    while i<len(nums):\n",
    "        if nums[i]==1:\n",
    "            break\n",
    "        i+=1\n",
    "    return len(nums)-i"
   ]
  },
  {
   "cell_type": "code",
   "execution_count": 6,
   "id": "d0c9a37e",
   "metadata": {},
   "outputs": [],
   "source": [
    "# binary search\n",
    "# T/C: O(logn)\n",
    "# S/C: O(1)\n",
    "\n",
    "def countOnes(nums):\n",
    "    left,right=0,len(nums)-1\n",
    "    while left<right:\n",
    "        mid=(left+right)//2\n",
    "        if nums[mid]<1:\n",
    "            left=mid+1\n",
    "        else:\n",
    "            right=mid\n",
    "    return len(nums)-right"
   ]
  },
  {
   "cell_type": "code",
   "execution_count": null,
   "id": "cc35112b",
   "metadata": {},
   "outputs": [],
   "source": []
  },
  {
   "cell_type": "markdown",
   "id": "9e706fac",
   "metadata": {},
   "source": [
    "###### Square root \n",
    "- I/P : 14\n",
    "- O/P : 3\n",
    "- I/P : 16\n",
    "- O/P : 4"
   ]
  },
  {
   "cell_type": "code",
   "execution_count": 8,
   "id": "02833f67",
   "metadata": {},
   "outputs": [],
   "source": [
    "# naive solution\n",
    "# T/C: O(sqrt(n))\n",
    "# S/C: O(1)\n",
    "\n",
    "def squareRoot(num):\n",
    "    i=1\n",
    "    while i*i<=num:\n",
    "        i+=1\n",
    "    return i-1"
   ]
  },
  {
   "cell_type": "code",
   "execution_count": 9,
   "id": "df2ab744",
   "metadata": {},
   "outputs": [],
   "source": [
    "# binary search\n",
    "# T/C: O(logn)\n",
    "# S/C: O(1)\n",
    "\n",
    "def squareRoot2(num):\n",
    "    l,r=1,num\n",
    "    ans=-1\n",
    "    while l<=r:\n",
    "        mid=(l+r)//2\n",
    "        \n",
    "        if mid*mid==num:\n",
    "            return mid\n",
    "        elif mid*mid>num:\n",
    "            r=mid-1\n",
    "        else:\n",
    "            l=mid+1\n",
    "            ans=mid\n",
    "    return ans"
   ]
  },
  {
   "cell_type": "code",
   "execution_count": null,
   "id": "70cb971e",
   "metadata": {},
   "outputs": [],
   "source": []
  },
  {
   "cell_type": "markdown",
   "id": "02416af1",
   "metadata": {},
   "source": [
    "###### Search in an infinite Sized array\n",
    "- I/P : [1,10,20,50,57,60,100,200,300,...], 50\n",
    "- O/P : 3"
   ]
  },
  {
   "cell_type": "code",
   "execution_count": 11,
   "id": "38a0bbbc",
   "metadata": {},
   "outputs": [],
   "source": [
    "# naive solution\n",
    "# T/C: O(pos)\n",
    "# S/C: O(1)\n",
    "\n",
    "def search(nums,target):\n",
    "    i=0\n",
    "    while nums[i]<target:\n",
    "        i+=1\n",
    "    return i if nums[i]==target else -1"
   ]
  },
  {
   "cell_type": "code",
   "execution_count": 1,
   "id": "8cc7dbf7",
   "metadata": {},
   "outputs": [],
   "source": [
    "# binary search\n",
    "# T/C: O(log(pos)), pos=position\n",
    "# S/C: O(1)\n",
    "\n",
    "def search2(nums,target):\n",
    "    if nums[0]==target:\n",
    "        return 0\n",
    "    i=1\n",
    "    while nums[i]<target:\n",
    "        i*=2\n",
    "    if nums[i]==target:\n",
    "        return i\n",
    "    return binary_search(nums,target,i//2+1,i-1)\n",
    "\n",
    "def binary_search(nums,target,start,end):\n",
    "    while start<end:\n",
    "        mid=(start+end)//2\n",
    "        if nums[mid]==target:\n",
    "            return mid\n",
    "        elif nums[mid]>target:\n",
    "            end=mid-1\n",
    "        else:\n",
    "            left=mid+1\n",
    "    return -1"
   ]
  },
  {
   "cell_type": "markdown",
   "id": "d8541649",
   "metadata": {},
   "source": [
    "###### Search in a sorted rotated array\n",
    "- constraint: distinct element\n",
    "- I/P : [10,20,30,40,50,8,9], 30\n",
    "- O/P : 2"
   ]
  },
  {
   "cell_type": "code",
   "execution_count": 4,
   "id": "6851234a",
   "metadata": {},
   "outputs": [],
   "source": [
    "# naive solution\n",
    "# T/C: O(n)\n",
    "# S/C: O(1)\n",
    "\n",
    "def search_sorted_rotated(nums,target):\n",
    "    for i,num in enumerate(nums):\n",
    "        if num==target:\n",
    "            return i\n",
    "    return -1"
   ]
  },
  {
   "cell_type": "code",
   "execution_count": 20,
   "id": "f7b4f755",
   "metadata": {},
   "outputs": [],
   "source": [
    "# idea : find index of min, and then, binary search\n",
    "# T/C: O(logn)\n",
    "# S/C: O(1)\n",
    "def searchSortedRotated(nums,target):\n",
    "    l,r=0,len(nums)-1\n",
    "    while l<r:\n",
    "        mid=(l+r)//2\n",
    "        if nums[mid]>nums[r]:\n",
    "            l=mid+1\n",
    "        else:\n",
    "            r=mid\n",
    "    \n",
    "    r=l+len(nums)-1\n",
    "    while l<=r:\n",
    "        print(l,r)\n",
    "        mid=(l+r)//2\n",
    "        print(mid,nums[mid%len(nums)])\n",
    "        if nums[mid%len(nums)]==target:\n",
    "            return mid%len(nums)\n",
    "        elif nums[mid%len(nums)]>target:\n",
    "            r=mid-1\n",
    "        else:\n",
    "            l=mid+1\n",
    "    return -1"
   ]
  },
  {
   "cell_type": "code",
   "execution_count": 28,
   "id": "48ef59fa",
   "metadata": {},
   "outputs": [],
   "source": [
    "# idea : decrease and conquer\n",
    "# T/C : O(logn)\n",
    "# S/C : O(1)\n",
    "def search_sorted_rotated(nums,target):\n",
    "    l,r=0,len(nums)-1\n",
    "    \n",
    "    while l<=r:\n",
    "        # normal binary search\n",
    "        mid=(l+r)//2\n",
    "        if nums[mid]==target:\n",
    "            return mid\n",
    "        \n",
    "        # left-half sorted\n",
    "        if nums[l]<nums[mid]:\n",
    "            if target>=nums[l] and target<nums[mid]:\n",
    "                r=mid-1\n",
    "            else:\n",
    "                l=mid+1\n",
    "        \n",
    "        # right-half sorted\n",
    "        else:\n",
    "            if target>nums[mid] and target<=nums[r]:\n",
    "                l=mid+1\n",
    "            else:\n",
    "                r=mid-1\n",
    "    return -1"
   ]
  },
  {
   "cell_type": "markdown",
   "id": "272f8a92",
   "metadata": {},
   "source": [
    "###### Find a peak element\n",
    "- I/P : [5,10,20,15,7]\n",
    "- O/P : 20\n",
    "-\n",
    "- I/P : [80,70,60]\n",
    "- O/P : 80"
   ]
  },
  {
   "cell_type": "code",
   "execution_count": 3,
   "id": "9fb84348",
   "metadata": {},
   "outputs": [],
   "source": [
    "# naive solution\n",
    "# T/C : O(n)\n",
    "# S/C : O(1)\n",
    "\n",
    "def findPeak_naive(nums):\n",
    "    if nums[0]>=nums[1]:\n",
    "        return nums[0]\n",
    "    elif nums[-1]>=nums[-2]:\n",
    "        return nums[-1]\n",
    "    \n",
    "    for i in range(1,len(nums)-1):\n",
    "        if nums[i]>=nums[i-1] and nums[i]>=nums[i+1]:\n",
    "            return nums[i]\n",
    "    return -1"
   ]
  },
  {
   "cell_type": "code",
   "execution_count": 4,
   "id": "7e6aeca0",
   "metadata": {},
   "outputs": [],
   "source": [
    "# binary search\n",
    "# T/C : O(logn)\n",
    "# S/C : O(1)\n",
    "\n",
    "def findPeak(nums):\n",
    "    l,r=0,len(nums)-1\n",
    "    \n",
    "    while l<=r:\n",
    "        m=(l+r)//2\n",
    "        if (m==0 or nums[m]>=nums[m-1]) and (m==len(nums)-1 or nums[m]>=nums[m+1]):\n",
    "            return nums[m]\n",
    "        if m>0 and nums[m-1]>=nums[m]:\n",
    "            r=m-1\n",
    "        else:\n",
    "            l=m+1\n",
    "    return -1"
   ]
  },
  {
   "cell_type": "markdown",
   "id": "0ea2eb44",
   "metadata": {},
   "source": [
    "###### Two sum - unsorted - two pointers\n",
    "- I/P : [3,5,9,2,8,10,11], target=17\n",
    "- O/P : [2,4]"
   ]
  },
  {
   "cell_type": "code",
   "execution_count": 10,
   "id": "8b92f659",
   "metadata": {},
   "outputs": [],
   "source": [
    "# bf solution\n",
    "# T/C:O(n^2)\n",
    "# S/C:O(1)\n",
    "\n",
    "def twoSum1(nums,target):\n",
    "    for i in range(len(nums)-1):\n",
    "        for j in range(i+1,len(nums)):\n",
    "            if nums[i]+nums[j]==target:\n",
    "                return i,j\n",
    "    return -1,-1"
   ]
  },
  {
   "cell_type": "markdown",
   "id": "2d823400",
   "metadata": {},
   "source": [
    "###### Two sum - sorted - two pointers\n",
    "- I/P : [2,5,8,12,30], target=17\n",
    "- O/P : [1,3]"
   ]
  },
  {
   "cell_type": "code",
   "execution_count": 13,
   "id": "4e19cf03",
   "metadata": {},
   "outputs": [],
   "source": [
    "# T/C: O(n)\n",
    "# S/C: O(1)\n",
    "def twoSumSorted(nums,target):\n",
    "    l,r=0,len(nums)-1\n",
    "\n",
    "    while l<r:\n",
    "        if nums[l]+nums[r]==target:\n",
    "            return [l,r]\n",
    "        elif nums[l]+nums[r]>target:\n",
    "            r-=1\n",
    "        else:\n",
    "            l+=1\n",
    "    return [-1,-1]"
   ]
  },
  {
   "cell_type": "markdown",
   "id": "8476a2db",
   "metadata": {},
   "source": [
    "###### Three sum - unduplicated\n",
    "- I/P : [2,3,4,8,9,20,40], target=32\n",
    "- O/P : [4,8,20]"
   ]
  },
  {
   "cell_type": "code",
   "execution_count": 1,
   "id": "32124c21",
   "metadata": {},
   "outputs": [],
   "source": [
    "# T/C: O(n^2)\n",
    "# S/C: O(1)\n",
    "def threeSum(nums,target):\n",
    "    for i in range(len(nums)-2):\n",
    "        l,r=i+1,len(nums)-1\n",
    "        while l<r:\n",
    "            if nums[i]+nums[l]+nums[r]==target:\n",
    "                return [nums[i],nums[l],nums[r]]\n",
    "            elif nums[i]+nums[l]+nums[r]>target:\n",
    "                r-=1\n",
    "            else:\n",
    "                l+=1\n",
    "    return [-1,-1,-1]"
   ]
  },
  {
   "cell_type": "markdown",
   "id": "a110508b",
   "metadata": {},
   "source": [
    "###### Median of two sorted Array\n",
    "- I/P : [10,20,30,40,50],[5,15,25,35,45]\n",
    "- O/P : 27.5"
   ]
  },
  {
   "cell_type": "code",
   "execution_count": 1,
   "id": "5f020055",
   "metadata": {},
   "outputs": [],
   "source": [
    "# naive solution\n",
    "# T/C: O((m+n)log(m+n))\n",
    "# S/C: O(m+n)\n",
    "\n",
    "def medianTwoSorted(nums1,nums2):\n",
    "    nums1+=nums2\n",
    "    nums1.sort()\n",
    "    if len(nums1)%2==0:\n",
    "        return (nums1[len(nums1)//2-1]+nums1[len(nums1)//2])/2\n",
    "    else:\n",
    "        return nums1[len(nums1)//2]"
   ]
  },
  {
   "cell_type": "code",
   "execution_count": 2,
   "id": "3ff80164",
   "metadata": {},
   "outputs": [],
   "source": [
    "# merge solution\n",
    "# T/C: O(m+n)\n",
    "# S/C: O(m+n)\n",
    "\n",
    "def medianTwoSorted2(nums1,nums2):\n",
    "    r1,r2=0,0\n",
    "    merged=[]\n",
    "    while r1<len(nums1) and r2<len(nums2):\n",
    "        if nums1[r1]>nums2[r2]:\n",
    "            merged.append(nums2[r2])\n",
    "            r2+=1\n",
    "        elif nums1[r1]==nums2[r2]:\n",
    "            merged.append(nums2[r2])\n",
    "            merged.append(nums1[r1])\n",
    "            r2+=1\n",
    "            r1+=1\n",
    "        else:\n",
    "            merged.append(nums1[r1])\n",
    "            r1+=1\n",
    "    \n",
    "    while r1<len(nums1):\n",
    "        merged.append(nums1[r1])\n",
    "        r1+=1\n",
    "    while r2<len(nums2):\n",
    "        merged.append(nums2[r2])\n",
    "        r2+=1\n",
    "    \n",
    "    if len(merged)%2==0:\n",
    "        return (merged[len(merged)//2-1]+merged[len(merged)//2])/2        \n",
    "    else:\n",
    "        return merged[len(merged)//2]"
   ]
  },
  {
   "cell_type": "markdown",
   "id": "cf8b173a",
   "metadata": {},
   "source": [
    "###### repeating element\n",
    "- I/P : [0,2,1,3,2,2]\n",
    "- O/P : 2"
   ]
  },
  {
   "cell_type": "markdown",
   "id": "9137d1ef",
   "metadata": {},
   "source": [
    "###### contstraints:\n",
    "-"
   ]
  },
  {
   "cell_type": "code",
   "execution_count": 6,
   "id": "0811f2f3",
   "metadata": {},
   "outputs": [],
   "source": [
    "# super naive solution\n",
    "# T/C: O(n^2)\n",
    "# s/C: O(1)\n",
    "def repeatingElement(nums):\n",
    "    for i in range(len(nums)-1):\n",
    "        for j in range(i+1,len(nums)):\n",
    "            if nums[i]==nums[j]:\n",
    "                return nums[i]\n",
    "    return -1"
   ]
  },
  {
   "cell_type": "code",
   "execution_count": 7,
   "id": "43ef1250",
   "metadata": {},
   "outputs": [],
   "source": [
    "# sort solution\n",
    "# T/C: O(nlogn)\n",
    "# S/C: O(1)\n",
    "def repeatingElement2(nums):\n",
    "    nums.sort()\n",
    "    for i in range(len(nums)-1):\n",
    "        if nums[i]==nums[i+1]:\n",
    "            return nums[i]\n",
    "    return -1"
   ]
  },
  {
   "cell_type": "code",
   "execution_count": 10,
   "id": "d675a098",
   "metadata": {},
   "outputs": [],
   "source": [
    "# hash solution\n",
    "# T/C: O(n)\n",
    "# S/C: O(n)\n",
    "def repeatingElement3(nums):\n",
    "    hashmap={}\n",
    "    for num in nums:\n",
    "        if num in hashmap:\n",
    "            return num\n",
    "        else:\n",
    "            hashmap[num]=1\n",
    "    return -1"
   ]
  },
  {
   "cell_type": "code",
   "execution_count": 17,
   "id": "341c29b4",
   "metadata": {},
   "outputs": [],
   "source": [
    "# linked list cycle solution\n",
    "# all elements of nums will be more than 0\n",
    "# T/C: O(n)\n",
    "# S/C: O(1)\n",
    "def repeatingElement4(nums):\n",
    "    slow,fast=nums[0],nums[0]\n",
    "    while True:\n",
    "        slow=nums[slow]\n",
    "        fast=nums[nums[fast]]\n",
    "        if slow==fast:\n",
    "            break\n",
    "    \n",
    "    slow=nums[0]\n",
    "    while slow!=fast:\n",
    "        slow=nums[slow]\n",
    "        fast=nums[fast]\n",
    "    \n",
    "    return slow"
   ]
  },
  {
   "cell_type": "code",
   "execution_count": 19,
   "id": "72742b58",
   "metadata": {},
   "outputs": [
    {
     "data": {
      "text/plain": [
       "4"
      ]
     },
     "execution_count": 19,
     "metadata": {},
     "output_type": "execute_result"
    }
   ],
   "source": [
    "repeatingElement4([2,1,3,4,4])"
   ]
  },
  {
   "cell_type": "markdown",
   "id": "7a12b846",
   "metadata": {},
   "source": [
    "###### Allocate the number of pages\n",
    "- k== the number of students, what is the minimum number of page any student will read?\n",
    "- only contigious pages are allocated\n",
    "- I/P : [10,20,30,40], k=2\n",
    "- O/P : 60"
   ]
  },
  {
   "cell_type": "markdown",
   "id": "fb440b3d",
   "metadata": {},
   "source": [
    "###### constraints\n",
    "- 1<= pages[i]"
   ]
  },
  {
   "cell_type": "code",
   "execution_count": 4,
   "id": "928d4d04",
   "metadata": {},
   "outputs": [],
   "source": [
    "# naive solution\n",
    "\n",
    "class Solution:\n",
    "    def allocatePages(self,pages,k):\n",
    "        if k==1:\n",
    "            return sum(pages)\n",
    "        \n",
    "        minimize_max=float('inf')\n",
    "        for i in range(1,len(pages)):\n",
    "            tmp=max(sum(pages[i:]),self.recur(pagese[i:],k-1))\n",
    "            minimize_max=min(minimize_max,tmp)\n",
    "        return minimize_max\n"
   ]
  },
  {
   "cell_type": "code",
   "execution_count": 11,
   "id": "39b64dfa",
   "metadata": {},
   "outputs": [
    {
     "data": {
      "text/plain": [
       "45"
      ]
     },
     "execution_count": 11,
     "metadata": {},
     "output_type": "execute_result"
    }
   ],
   "source": [
    "solve=Solution()\n",
    "\n",
    "solve.recur([10,5,30,1,2,5,10,10],2)"
   ]
  },
  {
   "cell_type": "code",
   "execution_count": null,
   "id": "6e7170e9",
   "metadata": {},
   "outputs": [],
   "source": []
  }
 ],
 "metadata": {
  "kernelspec": {
   "display_name": "Python 3",
   "language": "python",
   "name": "python3"
  },
  "language_info": {
   "codemirror_mode": {
    "name": "ipython",
    "version": 3
   },
   "file_extension": ".py",
   "mimetype": "text/x-python",
   "name": "python",
   "nbconvert_exporter": "python",
   "pygments_lexer": "ipython3",
   "version": "3.8.8"
  }
 },
 "nbformat": 4,
 "nbformat_minor": 5
}
