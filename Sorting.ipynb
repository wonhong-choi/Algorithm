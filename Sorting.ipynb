{
 "cells": [
  {
   "cell_type": "markdown",
   "id": "814bea1b",
   "metadata": {},
   "source": [
    "# stablity in sort"
   ]
  },
  {
   "cell_type": "markdown",
   "id": "1735ba49",
   "metadata": {},
   "source": [
    "- stable sorting algorithm: bubble sort, insertion sort, merge sort,...\n",
    "- unstable sorting algorithm: selection sort, quick sort, heap sort,..."
   ]
  },
  {
   "cell_type": "code",
   "execution_count": 15,
   "id": "be0a25e8",
   "metadata": {},
   "outputs": [
    {
     "name": "stdout",
     "output_type": "stream",
     "text": [
      "[('Aril', 50), ('Pyuah', 50), ('Ayan', 80), ('Ramesh', 80)]\n"
     ]
    }
   ],
   "source": [
    "people=[('Aril',50),('Ayan',80),('Pyuah',50),('Ramesh',80)]\n",
    "\n",
    "print(sorted(people,key=lambda x:x[1]))"
   ]
  },
  {
   "cell_type": "markdown",
   "id": "b0c4e80e",
   "metadata": {},
   "source": [
    "# bubble sort"
   ]
  },
  {
   "cell_type": "code",
   "execution_count": 25,
   "id": "bc733de3",
   "metadata": {},
   "outputs": [],
   "source": [
    "# T/C\n",
    "# best case: O(n), when already sorted\n",
    "# worst case: O(n^2)\n",
    "# average case: O(n^2)\n",
    "\n",
    "\n",
    "# basic\n",
    "def bubble_sort1(nums):\n",
    "    for i in range(len(nums)-1):\n",
    "        for j in range(len(nums)-i-1):\n",
    "            if nums[j]>nums[j+1]:\n",
    "                nums[j],nums[j+1]=nums[j+1],nums[j]\n",
    "        #print(nums)\n",
    "\n",
    "# optimized\n",
    "def bubble_sort2(nums):\n",
    "    for i in range(len(nums)-1):\n",
    "        for j in range(len(nums)-i-1):\n",
    "            if nums[j]>nums[j+1]:\n",
    "                nums[j],nums[j+1]=nums[j+1],nums[j]\n",
    "\n",
    "# best optimized_ when already sorted \n",
    "def bubble_sort3(nums):\n",
    "    for i in range(len(nums)-1):\n",
    "        swapped=False\n",
    "        for j in range(len(nums)-i-1):\n",
    "            if nums[j]>nums[j+1]:\n",
    "                nums[j],nums[j+1]=nums[j+1],nums[j]\n",
    "                swapped=True\n",
    "        if not swappted: # check already sorted in every pass\n",
    "            break"
   ]
  },
  {
   "cell_type": "code",
   "execution_count": 26,
   "id": "c397f370",
   "metadata": {},
   "outputs": [
    {
     "name": "stdout",
     "output_type": "stream",
     "text": [
      "[5, 8, 10, 20]\n"
     ]
    }
   ],
   "source": [
    "nums=[10,8,20,5]\n",
    "bubble_sort1(nums)\n",
    "print(nums)"
   ]
  },
  {
   "cell_type": "markdown",
   "id": "be33e7b3",
   "metadata": {},
   "source": [
    "# selection sort"
   ]
  },
  {
   "cell_type": "code",
   "execution_count": 43,
   "id": "915769ac",
   "metadata": {},
   "outputs": [],
   "source": [
    "# T/C\n",
    "# O(n^2)\n",
    "\n",
    "# naive\n",
    "def selection_sort1(nums):\n",
    "    tmp=[0 for i in range(len(nums))]\n",
    "    \n",
    "    for i in range(len(tmp)):\n",
    "        min_idx=0\n",
    "        for j in range(1,len(nums)):\n",
    "            if nums[j]<nums[min_idx]:\n",
    "                min_idx=j\n",
    "        tmp[i]=nums[min_idx]\n",
    "        nums[min_idx]=float('inf')\n",
    "    \n",
    "    for i in range(len(nums)):\n",
    "        nums[i]=tmp[i]\n",
    "\n",
    "# efficient solution_in-place\n",
    "def selection_sort2(nums):\n",
    "    for i in range(len(nums)-1):\n",
    "        min_idx=i\n",
    "        for j in range(i+1,len(nums)):\n",
    "            if nums[min_idx]>nums[j]:\n",
    "                min_idx=j\n",
    "        nums[i],nums[min_idx]=nums[min_idx],nums[i]\n"
   ]
  },
  {
   "cell_type": "code",
   "execution_count": 44,
   "id": "913beb01",
   "metadata": {},
   "outputs": [
    {
     "name": "stdout",
     "output_type": "stream",
     "text": [
      "[2, 5, 8, 10, 18, 20]\n"
     ]
    }
   ],
   "source": [
    "nums=[10,5,8,20,2,18]\n",
    "selection_sort2(nums)\n",
    "print(nums)"
   ]
  },
  {
   "cell_type": "markdown",
   "id": "2f9e247d",
   "metadata": {},
   "source": [
    "# insertion sort"
   ]
  },
  {
   "cell_type": "code",
   "execution_count": 56,
   "id": "26e75518",
   "metadata": {},
   "outputs": [],
   "source": [
    "# T/C\n",
    "# worst case: O(n^2), when reversed order\n",
    "# best case: O(n), when already sorted\n",
    "# average case: O(n^2)\n",
    "\n",
    "def insertion_sort1(nums):\n",
    "    for i in range(1,len(nums)):\n",
    "        key=nums[i]\n",
    "        j=i-1\n",
    "        while j>=0 and nums[j]>key:\n",
    "            nums[j+1]=nums[j]\n",
    "            j-=1\n",
    "        nums[j+1]=key\n",
    "        \n",
    "    \n",
    "def insertion_sort2(nums):\n",
    "    for i in range(1,len(nums)):\n",
    "        for j in range(i,0,-1):\n",
    "            if nums[j]<nums[j-1]:\n",
    "                nums[j],nums[j-1]=nums[j-1],nums[j]\n",
    "            else:\n",
    "                break"
   ]
  },
  {
   "cell_type": "code",
   "execution_count": 57,
   "id": "4e76847d",
   "metadata": {},
   "outputs": [
    {
     "name": "stdout",
     "output_type": "stream",
     "text": [
      "[5, 6, 10, 20, 30, 40]\n"
     ]
    }
   ],
   "source": [
    "nums=[5,6,10,20,30,40]\n",
    "insertion_sort1(nums)\n",
    "print(nums)"
   ]
  },
  {
   "cell_type": "markdown",
   "id": "946ae1ff",
   "metadata": {},
   "source": [
    "# merge sort"
   ]
  },
  {
   "cell_type": "markdown",
   "id": "4269a541",
   "metadata": {},
   "source": [
    "###### merge two sorted array"
   ]
  },
  {
   "cell_type": "code",
   "execution_count": 15,
   "id": "1ddf5b97",
   "metadata": {},
   "outputs": [],
   "source": [
    "# naive solution\n",
    "# T/C: O((m+n)log(m+n))\n",
    "# S/C: O(m+n)\n",
    "def merge1(nums1,nums2):\n",
    "    ret=nums1.copy()\n",
    "    for num in nums2:\n",
    "        ret.append(num)\n",
    "    \n",
    "    ret.sort()\n",
    "    return ret\n",
    "\n",
    "# linear solution\n",
    "# T/C: O(m+n)\n",
    "# S/C: O(m+n)\n",
    "def merge2(nums1,nums2):\n",
    "    ret=[]\n",
    "    \n",
    "    r1,r2=0,0\n",
    "    while r1<len(nums1) and r2<len(nums2):\n",
    "        if nums1[r1]>=nums2[r2]:\n",
    "            ret.append(nums2[r2])\n",
    "            r2+=1\n",
    "        else:\n",
    "            ret.append(nums1[r1])\n",
    "            r1+=1\n",
    "    \n",
    "    while r1<len(nums1):\n",
    "        ret.append(nums1[r1])\n",
    "        r1+=1\n",
    "    while r2<len(nums2):\n",
    "        ret.append(nums2[r2])\n",
    "        r2+=1\n",
    "    return ret"
   ]
  },
  {
   "cell_type": "code",
   "execution_count": 16,
   "id": "b1bbd3a4",
   "metadata": {},
   "outputs": [
    {
     "name": "stdout",
     "output_type": "stream",
     "text": [
      "[5, 6, 6, 10, 15, 15, 20]\n"
     ]
    }
   ],
   "source": [
    "nums1=[10,15,20]\n",
    "nums2=[5,6,6,15]\n",
    "print(merge2(nums1,nums2))"
   ]
  },
  {
   "cell_type": "markdown",
   "id": "939dfefc",
   "metadata": {},
   "source": [
    "###### merge function of merge sort\n",
    "- I/P: [...,10,15,20,11,30,...], low,mid,high\n",
    "- nums[low]=10,nums[mid]=20,nums[high]=30\n",
    "- O/P:[...,10,11,15,20,30,...]\n",
    "- constraints: low<=mid<high"
   ]
  },
  {
   "cell_type": "code",
   "execution_count": 19,
   "id": "b78bc532",
   "metadata": {},
   "outputs": [],
   "source": [
    "def merge(nums,low,mid,high):\n",
    "    left,right=[],[]\n",
    "    for i in range(low,mid+1):\n",
    "        left.append(nums[i])\n",
    "    for i in range(mid+1,high+1):\n",
    "        right.append(nums[i])\n",
    "    \n",
    "    r1,r2=0,0\n",
    "    w=low\n",
    "    while r1<len(left) and r2<len(right):\n",
    "        if left[r1]>=right[r2]:\n",
    "            nums[w]=right[r2]\n",
    "            r2+=1\n",
    "        else:\n",
    "            nums[w]=left[r1]\n",
    "            r1+=1\n",
    "        w+=1\n",
    "    while r1<len(left):\n",
    "        nums[w]=left[r1]\n",
    "        r1+=1\n",
    "        w+=1\n",
    "    while r2<len(right):\n",
    "        nums[w]=right[r2]\n",
    "        r2+=1\n",
    "        w+=1"
   ]
  },
  {
   "cell_type": "code",
   "execution_count": 20,
   "id": "f28d5c1c",
   "metadata": {},
   "outputs": [
    {
     "data": {
      "text/plain": [
       "[53, 51, 8, 10, 11, 15, 20, 30, 5, 63, 7, 89]"
      ]
     },
     "execution_count": 20,
     "metadata": {},
     "output_type": "execute_result"
    }
   ],
   "source": [
    "nums=[53,51,8,10,15,20,11,30,5,63,7,89]\n",
    "merge(nums,3,5,7)\n",
    "nums"
   ]
  },
  {
   "cell_type": "markdown",
   "id": "850a8c4a",
   "metadata": {},
   "source": [
    "###### merge sort "
   ]
  },
  {
   "cell_type": "code",
   "execution_count": 21,
   "id": "cb9d49a1",
   "metadata": {},
   "outputs": [],
   "source": [
    "# T/C: O(nlogn)\n",
    "# S/C: O(n), because space allocated and then, deallocated after sorted\n",
    "def merge_sort(nums,l,r):\n",
    "    if r>l: # at least 2 elements\n",
    "        mid=l+(r-l)//2\n",
    "        merge_sort(nums,l,mid)\n",
    "        merge_sort(nums,mid+1,r)\n",
    "        merge(nums,l,mid,r)        "
   ]
  },
  {
   "cell_type": "code",
   "execution_count": 22,
   "id": "b373c872",
   "metadata": {},
   "outputs": [
    {
     "data": {
      "text/plain": [
       "[5, 7, 8, 10, 11, 15, 20, 30, 51, 53, 63, 89]"
      ]
     },
     "execution_count": 22,
     "metadata": {},
     "output_type": "execute_result"
    }
   ],
   "source": [
    "nums=[53,51,8,10,15,20,11,30,5,63,7,89]\n",
    "merge_sort(nums,0,len(nums)-1)\n",
    "nums"
   ]
  },
  {
   "cell_type": "markdown",
   "id": "41355bf7",
   "metadata": {},
   "source": [
    "# intersection of two sorted array"
   ]
  },
  {
   "cell_type": "markdown",
   "id": "a13259f1",
   "metadata": {},
   "source": [
    "- I/P: [3,5,10,10,10,15,15,20], [5,10,10,15,30]\n",
    "- O/P: 5 10 15"
   ]
  },
  {
   "cell_type": "code",
   "execution_count": 8,
   "id": "5c7430f6",
   "metadata": {},
   "outputs": [],
   "source": [
    "# brute force solution\n",
    "# T/C: O(m*n)\n",
    "# S/C: O(inter(nums1,nums2))\n",
    "def intersection1(nums1,nums2):\n",
    "    inter=[]\n",
    "    for i in range(len(nums1)):\n",
    "        if i>0 and nums1[i]==nums1[i-1]:\n",
    "            continue\n",
    "        for j in range(len(nums2)):\n",
    "            if nums1[i]==nums2[j]:\n",
    "                inter.append(nums1[i])\n",
    "                break\n",
    "    return inter"
   ]
  },
  {
   "cell_type": "code",
   "execution_count": 9,
   "id": "fabc9463",
   "metadata": {},
   "outputs": [],
   "source": [
    "# linear solution\n",
    "# T/C: O(m+n)\n",
    "# S/C: O(inter(nums1,nums2))\n",
    "def intersection2(nums1,nums2):\n",
    "    inter=[]\n",
    "    r1,r2=0,0\n",
    "    while r1<len(nums1) and r2<len(nums2):\n",
    "        if nums1[r1]==nums2[r2]:\n",
    "            inter_num=nums1[r1]\n",
    "            inter.append(inter_num)\n",
    "            while nums1[r1]==inter_num:\n",
    "                r1+=1\n",
    "            while nums2[r2]==inter_num:\n",
    "                r2+=1\n",
    "        elif nums1[r1]>nums2[r2]:\n",
    "            r2+=1\n",
    "        else:\n",
    "            r1+=1\n",
    "    return inter"
   ]
  },
  {
   "cell_type": "code",
   "execution_count": 11,
   "id": "57735e40",
   "metadata": {},
   "outputs": [
    {
     "name": "stdout",
     "output_type": "stream",
     "text": [
      "[20]\n"
     ]
    }
   ],
   "source": [
    "nums1=[2,20,20,40,60]\n",
    "nums2=[10,20,20,20]\n",
    "print(intersection1(nums1,nums2))"
   ]
  },
  {
   "cell_type": "markdown",
   "id": "51b83150",
   "metadata": {},
   "source": [
    "# union of two sorted array"
   ]
  },
  {
   "cell_type": "markdown",
   "id": "c9bddb28",
   "metadata": {},
   "source": [
    "- I/P: [3,5,8], [2,8,9,10,15]\n",
    "- O/P: [2,3,5,8,9,10,15]"
   ]
  },
  {
   "cell_type": "code",
   "execution_count": 5,
   "id": "71c1272f",
   "metadata": {},
   "outputs": [],
   "source": [
    "# T/C: O((m+n)log(m+n))\n",
    "def union1(nums1,nums2):\n",
    "    union=[num for num in nums1]\n",
    "    for num in nums2:\n",
    "        union.append(num)\n",
    "    union.sort()\n",
    "    \n",
    "    # remove duplicates\n",
    "    w,r=0,0\n",
    "    cur_num=float('inf')\n",
    "    while r<len(union):\n",
    "        if cur_num!=union[r]:\n",
    "            union[w]=union[r]\n",
    "            cur_num=union[r]\n",
    "            r+=1\n",
    "            w+=1\n",
    "        else:\n",
    "            r+=1\n",
    "    return union[:w]"
   ]
  },
  {
   "cell_type": "code",
   "execution_count": 18,
   "id": "b6514b2d",
   "metadata": {},
   "outputs": [],
   "source": [
    "# T/C: O(m+n)\n",
    "def union2(nums1,nums2):\n",
    "    i,j=0,0\n",
    "    union=[]\n",
    "    while i<len(nums1) and j<len(nums2):\n",
    "        if i>0 and nums1[i]==nums1[i-1]:\n",
    "            i+=1\n",
    "            continue\n",
    "        if j>0 and nums2[j]==nums2[j-1]:\n",
    "            j+=1\n",
    "            continue\n",
    "            \n",
    "        if nums1[i]==nums2[j]:\n",
    "            union.append(nums1[i])\n",
    "            i+=1\n",
    "            j+=1\n",
    "        elif nums1[i]>nums2[j]:\n",
    "            union.append(nums2[j])\n",
    "            j+=1\n",
    "        else:\n",
    "            union.append(nums1[i])\n",
    "            i+=1\n",
    "    while i<len(nums1):\n",
    "        if i>0 and nums1[i]==nums1[i-1]:\n",
    "            i+=1\n",
    "            continue\n",
    "        union.append(nums1[i])\n",
    "        i+=1\n",
    "    while j<len(nums2):\n",
    "        if j>0 and nums2[j]==nums2[j-1]:\n",
    "            j+=1\n",
    "            continue\n",
    "        union.append(nums2[j])\n",
    "        j+=1\n",
    "    return union"
   ]
  },
  {
   "cell_type": "code",
   "execution_count": 19,
   "id": "c3022a12",
   "metadata": {},
   "outputs": [
    {
     "data": {
      "text/plain": [
       "[2, 3, 5, 8, 9, 10, 15]"
      ]
     },
     "execution_count": 19,
     "metadata": {},
     "output_type": "execute_result"
    }
   ],
   "source": [
    "nums1,nums2=[3,5,8,8,8,8],[2,8,8,8,8,8,8,9,10,15]\n",
    "union2(nums1,nums2)"
   ]
  },
  {
   "cell_type": "markdown",
   "id": "28376e48",
   "metadata": {},
   "source": [
    "# count inversions in an array"
   ]
  },
  {
   "cell_type": "markdown",
   "id": "e8ef24fa",
   "metadata": {},
   "source": [
    "- A pair(nums[i], nums[j]) forms an inversion when i<j and nums[i]>nums[j]"
   ]
  },
  {
   "cell_type": "markdown",
   "id": "fd473657",
   "metadata": {},
   "source": [
    "- I/P: [2,4,1,3,5]\n",
    "- O/P: 3"
   ]
  },
  {
   "cell_type": "markdown",
   "id": "9fff0afa",
   "metadata": {},
   "source": [
    "- I/P: [10,20,30,45]\n",
    "- O/P: 0"
   ]
  },
  {
   "cell_type": "markdown",
   "id": "edef301c",
   "metadata": {},
   "source": [
    "- I/P: [40,30,20,10]\n",
    "- O/P: 6"
   ]
  },
  {
   "cell_type": "code",
   "execution_count": 50,
   "id": "bbdf2223",
   "metadata": {},
   "outputs": [],
   "source": [
    "# brute force solution\n",
    "# T/C: O(n^2)\n",
    "def countInversion1(nums):\n",
    "    count=0\n",
    "    for i in range(len(nums)-1):\n",
    "        for j in range(i+1,len(nums)):\n",
    "            if nums[i]>nums[j]:\n",
    "                count+=1\n",
    "    return count"
   ]
  },
  {
   "cell_type": "code",
   "execution_count": 51,
   "id": "96735f1b",
   "metadata": {},
   "outputs": [],
   "source": [
    "# merge sort solution\n",
    "# T/C: O(nlogn)\n",
    "# S/C: O(n) for merge sort\n",
    "def countInversion2(nums):\n",
    "    count=[0]\n",
    "    def merge_sort(nums,l,r,count):\n",
    "        if l<r:\n",
    "            m=l+(r-l)//2\n",
    "            merge_sort(nums,l,m,count)\n",
    "            merge_sort(nums,m+1,r,count)\n",
    "            merge(nums,l,m,r,count)\n",
    "    def merge(nums,l,m,r,count):\n",
    "        left=nums[l:m+1]\n",
    "        right=nums[m+1:r+1]\n",
    "        \n",
    "        r1,r2=0,0\n",
    "        w=l\n",
    "        var1=0\n",
    "        while r1<len(left) and r2<len(right):\n",
    "            if left[r1]>=right[r2]:\n",
    "                var1+=1\n",
    "                nums[w]=right[r2]\n",
    "                w+=1\n",
    "                r2+=1\n",
    "            else:\n",
    "                nums[w]=left[r1]\n",
    "                w+=1\n",
    "                r1+=1\n",
    "        var2=0\n",
    "        while r1<len(left):\n",
    "            var2+=1\n",
    "            nums[w]=left[r1]\n",
    "            w+=1\n",
    "            r1+=1\n",
    "        while r2<len(right):\n",
    "            nums[w]=right[r2]\n",
    "            w+=1\n",
    "            r2+=1\n",
    "        if var2!=0:\n",
    "            count[0]+=var1*var2\n",
    "        else:\n",
    "            count[0]+=var1\n",
    "    merge_sort(nums,0,len(nums)-1,count)\n",
    "    return count[0]"
   ]
  },
  {
   "cell_type": "code",
   "execution_count": 52,
   "id": "c815ee56",
   "metadata": {},
   "outputs": [],
   "source": [
    "# optimized code\n",
    "# T/C: O(nlogn)\n",
    "# S/C: O(n) for merge sort\n",
    "def countAndMerge(nums,l,m,r):\n",
    "    left=nums[l:m+1]\n",
    "    right=nums[m+1:r+1]\n",
    "    \n",
    "    result=0\n",
    "    i,j=0,0\n",
    "    w=l\n",
    "    while i<len(left) and j<len(right):\n",
    "        if left[i]<=right[j]:\n",
    "            nums[w]=left[i]\n",
    "            w+=1\n",
    "            i+=1\n",
    "        else:\n",
    "            nums[w]=right[j]\n",
    "            w+=1\n",
    "            j+=1\n",
    "            result+=len(left)-i # count part\n",
    "    while i<len(left):\n",
    "        nums[w]=left[i]\n",
    "        w+=1\n",
    "        i+=1\n",
    "    while j<len(right):\n",
    "        nums[w]=right[j]\n",
    "        w+=1\n",
    "        j+=1\n",
    "    return result\n",
    "\n",
    "def countInversion(nums,l,r):\n",
    "    result=0\n",
    "    if l<r:\n",
    "        m=l+(r-l)//2\n",
    "        result+=countInversion(nums,l,m)\n",
    "        result+=countInversion(nums,m+1,r)\n",
    "        result+=countAndMerge(nums,l,m,r)\n",
    "    return result"
   ]
  },
  {
   "cell_type": "code",
   "execution_count": 53,
   "id": "681a7785",
   "metadata": {},
   "outputs": [
    {
     "data": {
      "text/plain": [
       "10"
      ]
     },
     "execution_count": 53,
     "metadata": {},
     "output_type": "execute_result"
    }
   ],
   "source": [
    "nums=[50,40,30,20,10]\n",
    "countInversion(nums,0,len(nums)-1)"
   ]
  },
  {
   "cell_type": "markdown",
   "id": "86094a5d",
   "metadata": {},
   "source": [
    "# partition for quick sort"
   ]
  },
  {
   "cell_type": "markdown",
   "id": "50783ed0",
   "metadata": {},
   "source": [
    "###### naive partition"
   ]
  },
  {
   "cell_type": "code",
   "execution_count": 2,
   "id": "a1c3ed52",
   "metadata": {},
   "outputs": [],
   "source": [
    "# [3,8,6,12,10,7]\n",
    "# T/C: O(n)\n",
    "# S/C: O(n)\n",
    "def partition1(nums,low,high,p): # p==pivot index\n",
    "    tmp=[]\n",
    "    for i in range(low,high+1):\n",
    "        if nums[i]<nums[p]:\n",
    "            tmp.append(nums[i])\n",
    "    for i in range(low,high+1):\n",
    "        if nums[i]==nums[p]:\n",
    "            tmp.append(nums[i])\n",
    "    result=len(tmp)-1\n",
    "    for i in range(low,high+1):\n",
    "        if nums[i]>nums[p]:\n",
    "            tmp.append(nums[i])\n",
    "    j=0\n",
    "    for i in range(low,high+1):\n",
    "        nums[i]=tmp[j]\n",
    "        j+=1\n",
    "    return result"
   ]
  },
  {
   "cell_type": "code",
   "execution_count": 3,
   "id": "1e280477",
   "metadata": {},
   "outputs": [
    {
     "name": "stdout",
     "output_type": "stream",
     "text": [
      "None\n",
      "[2, 7, 3, 7, 8]\n"
     ]
    }
   ],
   "source": [
    "nums=[2,7,8,3,7]\n",
    "print(partition(nums,0,len(nums)-1,4))\n",
    "print(nums)"
   ]
  },
  {
   "cell_type": "markdown",
   "id": "de60302a",
   "metadata": {},
   "source": [
    "###### lomuto partition"
   ]
  },
  {
   "cell_type": "code",
   "execution_count": 8,
   "id": "28070f46",
   "metadata": {},
   "outputs": [],
   "source": [
    "# T/C: O(n), one pass\n",
    "# S/C: O(1) \n",
    "def partition2(nums,low,high): \n",
    "    pivot=nums[high]  # consider pivot is always last element\n",
    "    \n",
    "    i=low-1 # window which smaller than pivot\n",
    "    for j in range(low,high):\n",
    "        if nums[j]<pivot:\n",
    "            i+=1\n",
    "            nums[i],nums[j]=nums[j],nums[i]\n",
    "    nums[i+1],nums[high]=nums[high],nums[i+1]\n",
    "    return i+1\n"
   ]
  },
  {
   "cell_type": "code",
   "execution_count": 6,
   "id": "e1570095",
   "metadata": {},
   "outputs": [
    {
     "data": {
      "text/plain": [
       "[3, 4, 2, 1, 5, 7, 10, 8]"
      ]
     },
     "execution_count": 6,
     "metadata": {},
     "output_type": "execute_result"
    }
   ],
   "source": [
    "nums=[10,3,8,4,2,7,1,5]\n",
    "partition2(nums,0,len(nums)-1)\n",
    "nums"
   ]
  },
  {
   "cell_type": "markdown",
   "id": "e68c8fec",
   "metadata": {},
   "source": [
    "###### hoare partition"
   ]
  },
  {
   "cell_type": "code",
   "execution_count": 1,
   "id": "0e6f113e",
   "metadata": {},
   "outputs": [],
   "source": [
    "# T/C: O(n)\n",
    "# S/C: O(1)\n",
    "# pivot element may not be placed partition position\n",
    "# example, [5,3,8,4,2,7,1,10] ==> [1,3,2,4,8,7,5,10]\n",
    "def partition3(nums,low,high):\n",
    "    pivot=nums[low]\n",
    "    i,j=low-1,high+1\n",
    "    while True:\n",
    "        while True:\n",
    "            i+=1\n",
    "            if nums[i]>=pivot:\n",
    "                break\n",
    "        while True:\n",
    "            j-=1\n",
    "            if nums[j]<=pivot:\n",
    "                break\n",
    "        if i>=j:\n",
    "            return j\n",
    "        nums[i],nums[j]=nums[j],nums[i]\n"
   ]
  },
  {
   "cell_type": "code",
   "execution_count": 2,
   "id": "3a851a8b",
   "metadata": {},
   "outputs": [
    {
     "name": "stdout",
     "output_type": "stream",
     "text": [
      "[1, 3, 2, 4, 8, 7, 5, 10]\n"
     ]
    }
   ],
   "source": [
    "nums=[5,3,8,4,2,7,1,10]\n",
    "partition3(nums,0,len(nums)-1)\n",
    "print(nums)"
   ]
  },
  {
   "cell_type": "markdown",
   "id": "3d0192c4",
   "metadata": {},
   "source": [
    "# quick sort"
   ]
  },
  {
   "cell_type": "markdown",
   "id": "ad261b73",
   "metadata": {},
   "source": [
    "- Divide and conquer algorithm\n",
    "- Worst Case O(n^2)\n",
    "- Average Case O(nlogn)\n",
    "- in-place, cache, tail recursion\n",
    "- both lomuto and hoare partition method fix pivot index, so to avoid Worst case(sorted array) just change pivot index with random number in the array"
   ]
  },
  {
   "cell_type": "code",
   "execution_count": 7,
   "id": "5647111b",
   "metadata": {},
   "outputs": [],
   "source": [
    "# using lomuto partition\n",
    "def quick_sort1(nums,low,high):\n",
    "    if low<high:\n",
    "        pivot=partition2(nums,low,high)\n",
    "        quick_sort1(nums,low,pivot-1)\n",
    "        quick_sort1(nums,pivot+1,high)"
   ]
  },
  {
   "cell_type": "code",
   "execution_count": 10,
   "id": "2061522c",
   "metadata": {},
   "outputs": [
    {
     "name": "stdout",
     "output_type": "stream",
     "text": [
      "[1, 2, 3, 4, 5, 7, 8, 10]\n"
     ]
    }
   ],
   "source": [
    "nums=[10,3,8,4,2,7,1,5]\n",
    "quick_sort1(nums,0,len(nums)-1)\n",
    "print(nums)"
   ]
  },
  {
   "cell_type": "code",
   "execution_count": 11,
   "id": "adc005c8",
   "metadata": {},
   "outputs": [],
   "source": [
    "# using hoare partition\n",
    "def quick_sort2(nums,low,high):\n",
    "    if low<high:\n",
    "        pivot=partition3(nums,low,high)\n",
    "        quick_sort2(nums,low,pivot)\n",
    "        quick_sort2(nums,pivot+1,high)"
   ]
  },
  {
   "cell_type": "code",
   "execution_count": 12,
   "id": "73621c8b",
   "metadata": {},
   "outputs": [
    {
     "name": "stdout",
     "output_type": "stream",
     "text": [
      "[1, 2, 3, 4, 5, 7, 8, 10]\n"
     ]
    }
   ],
   "source": [
    "nums=[10,3,8,4,2,7,1,5]\n",
    "quick_sort2(nums,0,len(nums)-1)\n",
    "print(nums)"
   ]
  },
  {
   "cell_type": "markdown",
   "id": "64b324aa",
   "metadata": {},
   "source": [
    "# k-th smallest element"
   ]
  },
  {
   "cell_type": "markdown",
   "id": "8827ed7f",
   "metadata": {},
   "source": [
    "- I/P: [30,20,5,10,8], k=2\n",
    "- O/P: 8"
   ]
  },
  {
   "cell_type": "code",
   "execution_count": 4,
   "id": "8f45f885",
   "metadata": {},
   "outputs": [],
   "source": [
    "# naive solution\n",
    "# T/C: O(nlogn)\n",
    "# S/C: O(1)\n",
    "def k_smallest(nums,k):\n",
    "    nums.sort()\n",
    "    return nums[k-1]"
   ]
  },
  {
   "cell_type": "code",
   "execution_count": 5,
   "id": "9438e6ce",
   "metadata": {},
   "outputs": [
    {
     "data": {
      "text/plain": [
       "8"
      ]
     },
     "execution_count": 5,
     "metadata": {},
     "output_type": "execute_result"
    }
   ],
   "source": [
    "nums=[30,20,5,10,8]\n",
    "k_smallest(nums,2)"
   ]
  },
  {
   "cell_type": "code",
   "execution_count": 15,
   "id": "083418ed",
   "metadata": {},
   "outputs": [],
   "source": [
    "# using lomuto partition\n",
    "# T/C: O(n) for best case, O(n^2) for worst case\n",
    "# S/C: O(1)\n",
    "def k_smallest1(nums,k):\n",
    "    l,r=0,len(nums)-1\n",
    "    while l<=r:\n",
    "        pivot=partition2(nums,l,r)\n",
    "        \n",
    "        if pivot==k-1:\n",
    "            return nums[pivot]\n",
    "        \n",
    "        elif pivot<k-1:\n",
    "            l=pivot+1\n",
    "        else:\n",
    "            r=pivot-1\n",
    "    return -1"
   ]
  },
  {
   "cell_type": "code",
   "execution_count": 16,
   "id": "4c9484a5",
   "metadata": {},
   "outputs": [
    {
     "data": {
      "text/plain": [
       "5"
      ]
     },
     "execution_count": 16,
     "metadata": {},
     "output_type": "execute_result"
    }
   ],
   "source": [
    "nums=[30,20,5,10,8]\n",
    "k_smallest1(nums,1)"
   ]
  },
  {
   "cell_type": "markdown",
   "id": "9bcbfb50",
   "metadata": {},
   "source": [
    "# chocolate distrubution problem"
   ]
  },
  {
   "cell_type": "markdown",
   "id": "ed2ee4d7",
   "metadata": {},
   "source": [
    "- when there are chocolate packets (in the input array), and m children\n",
    "- find min diffrence of taken chocolate packets"
   ]
  },
  {
   "cell_type": "markdown",
   "id": "553edd53",
   "metadata": {},
   "source": [
    "- I/P: [7,3,2,4,9,12,56], m=3\n",
    "- O/P: 2\n",
    "- Explain: when give 7,3,2 chocolate packets to 3 children, diffrenece between max packet and min packet is 7-2=5\n",
    "- but, when give 3,2,4 chocolate packets to 3 children, diffrence between max and min is 4-2=2\n",
    "- so return, 2"
   ]
  },
  {
   "cell_type": "code",
   "execution_count": 4,
   "id": "9862b274",
   "metadata": {},
   "outputs": [],
   "source": [
    "# using sorting\n",
    "# T/C: O(nlogn)\n",
    "# S/C: O(1)\n",
    "def distribute_chocolate(packets,m):\n",
    "    if len(packets)<m:\n",
    "        return -1\n",
    "    sorted_packets=sorted(packets)\n",
    "    \n",
    "    min_diff=float('inf')\n",
    "    for i in range(m-1,len(packets)):\n",
    "        min_diff=min(min_diff,sorted_packets[i]-sorted_packets[i-m+1])\n",
    "    return min_diff"
   ]
  },
  {
   "cell_type": "code",
   "execution_count": 7,
   "id": "7de24ee6",
   "metadata": {},
   "outputs": [
    {
     "data": {
      "text/plain": [
       "3"
      ]
     },
     "execution_count": 7,
     "metadata": {},
     "output_type": "execute_result"
    }
   ],
   "source": [
    "packets=[7,3,1,4,9,12,56]\n",
    "m=3\n",
    "distribute_chocolate(packets,m)"
   ]
  },
  {
   "cell_type": "markdown",
   "id": "4188051e",
   "metadata": {},
   "source": [
    "# sort an array with two types"
   ]
  },
  {
   "cell_type": "markdown",
   "id": "cfa9429b",
   "metadata": {},
   "source": [
    "### there are several types kind of this.\n",
    "### but, just solve only the first problem, the others are similar"
   ]
  },
  {
   "cell_type": "markdown",
   "id": "e1bf4f98",
   "metadata": {},
   "source": [
    "###### segregate positive and negative"
   ]
  },
  {
   "cell_type": "markdown",
   "id": "1eaca01b",
   "metadata": {},
   "source": [
    "- I/P: [15,-3,-2,18]\n",
    "- O/P: [-3,-2,15,18], order of negative(or positive) number dosen't matter"
   ]
  },
  {
   "cell_type": "markdown",
   "id": "794059bf",
   "metadata": {},
   "source": [
    "###### segregate even and odd"
   ]
  },
  {
   "cell_type": "markdown",
   "id": "fbce237c",
   "metadata": {},
   "source": [
    "###### segregate a binary array"
   ]
  },
  {
   "cell_type": "code",
   "execution_count": 18,
   "id": "3a9ffb41",
   "metadata": {},
   "outputs": [],
   "source": [
    "# sorting\n",
    "# T/C: O(nlogn)\n",
    "# S/C: O(1)\n",
    "def segregate_pos_and_neg1(nums):\n",
    "    nums.sort()"
   ]
  },
  {
   "cell_type": "code",
   "execution_count": 19,
   "id": "7156e615",
   "metadata": {},
   "outputs": [],
   "source": [
    "# three pass\n",
    "# T/C: O(n)\n",
    "# S/C: O(n)\n",
    "def segregate_pos_and_neg2(nums):\n",
    "    tmp=[]\n",
    "    for num in nums:\n",
    "        if num<0:\n",
    "            tmp.append(num)\n",
    "    for num in nums:\n",
    "        if num>=0:\n",
    "            tmp.append(num)\n",
    "    for i in range(len(nums)):\n",
    "        nums[i]=tmp[i]"
   ]
  },
  {
   "cell_type": "code",
   "execution_count": 20,
   "id": "4b1641eb",
   "metadata": {},
   "outputs": [],
   "source": [
    "# T/C: O(n) # one-pass\n",
    "# S/C: O(1)\n",
    "def segregate_pos_and_neg2(nums):\n",
    "    writer=-1\n",
    "    reader=0\n",
    "    while reader<len(nums):\n",
    "        if nums[reader]<0:\n",
    "            writer+=1\n",
    "            nums[writer],nums[reader]=nums[reader],nums[writer]\n",
    "        else:\n",
    "            reader+=1        "
   ]
  },
  {
   "cell_type": "code",
   "execution_count": 21,
   "id": "7980d2b3",
   "metadata": {},
   "outputs": [
    {
     "name": "stdout",
     "output_type": "stream",
     "text": [
      "[-3, -2, 15, 18]\n"
     ]
    }
   ],
   "source": [
    "nums=[15,-3,-2,18]\n",
    "segregate_pos_and_neg1(nums)\n",
    "print(nums)"
   ]
  },
  {
   "cell_type": "markdown",
   "id": "3a2f550b",
   "metadata": {},
   "source": [
    "# sort an array with three types"
   ]
  },
  {
   "cell_type": "markdown",
   "id": "02eebbe8",
   "metadata": {},
   "source": [
    "###### sort 0, 1, and 2"
   ]
  },
  {
   "cell_type": "markdown",
   "id": "acb96be3",
   "metadata": {},
   "source": [
    "- I/P: [0,1,0,2,1,2]\n",
    "- O/P: [0,0,1,1,2,2]"
   ]
  },
  {
   "cell_type": "code",
   "execution_count": 35,
   "id": "210bd8cc",
   "metadata": {},
   "outputs": [],
   "source": [
    "# naive solution # 4 pass\n",
    "# T/C: O(n)\n",
    "# S/C: O(n)\n",
    "def sort_colors1(nums):\n",
    "    tmp=[]\n",
    "    for num in nums:\n",
    "        if num==0:\n",
    "            tmp.append(num)\n",
    "    for num in nums:\n",
    "        if num==1:\n",
    "            tmp.append(num)\n",
    "    for num in nums:\n",
    "        if num==2:\n",
    "            tmp.append(num)\n",
    "    for i in range(len(nums)):\n",
    "        nums[i]=tmp[i]"
   ]
  },
  {
   "cell_type": "code",
   "execution_count": 36,
   "id": "372c72d7",
   "metadata": {},
   "outputs": [],
   "source": [
    "# dutch national flag algorithm\n",
    "# T/C: O(n)\n",
    "# S/C: O(1)\n",
    "def sort_colors(nums):\n",
    "    i,j,k=0,0,len(nums)-1\n",
    "    while j<k:\n",
    "        if nums[j]==0:\n",
    "            nums[i],nums[j]=nums[j],nums[i]\n",
    "            j+=1\n",
    "            i+=1\n",
    "        elif nums[j]==2:\n",
    "            nums[j],nums[k]=nums[k],nums[j]\n",
    "            k-=1\n",
    "        else:\n",
    "            j+=1"
   ]
  },
  {
   "cell_type": "code",
   "execution_count": 25,
   "id": "5fabe80c",
   "metadata": {},
   "outputs": [
    {
     "name": "stdout",
     "output_type": "stream",
     "text": [
      "[0, 0, 0, 0, 0, 1, 1, 1, 1, 1, 2, 2, 2, 2, 2, 2]\n"
     ]
    }
   ],
   "source": [
    "colors=[0,1,0,0,0,0,2,2,2,2,1,1,1,2,1,2]\n",
    "sort_colors(colors)\n",
    "print(colors)"
   ]
  },
  {
   "cell_type": "markdown",
   "id": "6a8547d7",
   "metadata": {},
   "source": [
    "###### Three way partitioning"
   ]
  },
  {
   "cell_type": "markdown",
   "id": "324d91b1",
   "metadata": {},
   "source": [
    "- I/P: [2,1,2,20,10,20,1], pivot=2\n",
    "- O/P: [1,1,2,2,20,10,20]"
   ]
  },
  {
   "cell_type": "code",
   "execution_count": 28,
   "id": "4343a432",
   "metadata": {},
   "outputs": [],
   "source": [
    "# T/C: O(n)\n",
    "# S/C: O(1)\n",
    "def three_way_partition(nums,pivot):\n",
    "    i,j,k=0,0,len(nums)-1\n",
    "    while j<k:\n",
    "        if nums[j]<pivot:\n",
    "            nums[i],nums[j]=nums[j],nums[i]\n",
    "            i+=1\n",
    "            j+=1\n",
    "        elif nums[j]>pivot:\n",
    "            nums[j],nums[k]=nums[k],nums[j]\n",
    "            k-=1\n",
    "        else:\n",
    "            j+=1"
   ]
  },
  {
   "cell_type": "code",
   "execution_count": 37,
   "id": "8406f613",
   "metadata": {},
   "outputs": [
    {
     "name": "stdout",
     "output_type": "stream",
     "text": [
      "[1, 1, 2, 2, 20, 10, 20]\n"
     ]
    }
   ],
   "source": [
    "nums=[2,1,2,20,10,20,1]\n",
    "pivot=2\n",
    "three_way_partition(nums,pivot)\n",
    "print(nums)"
   ]
  },
  {
   "cell_type": "markdown",
   "id": "b77a812d",
   "metadata": {},
   "source": [
    "###### partition around a range"
   ]
  },
  {
   "cell_type": "markdown",
   "id": "e41bc057",
   "metadata": {},
   "source": [
    "- I/P: [10,5,6,3,20,9,40], range=[5,10]\n",
    "- O/O: [3,5,6,9,10,20,40]"
   ]
  },
  {
   "cell_type": "code",
   "execution_count": 38,
   "id": "c1be334b",
   "metadata": {},
   "outputs": [],
   "source": [
    "# T/C: O(n)\n",
    "# S/C: O(1)\n",
    "def partition_range(nums,scope):\n",
    "    i,j,k=0,0,len(nums)-1\n",
    "    while j<k:\n",
    "        if scope[0]>nums[j]:\n",
    "            nums[i],nums[j]=nums[j],nums[i]\n",
    "            i+=1\n",
    "            j+=1\n",
    "        elif nums[j]>scope[1]:\n",
    "            nums[j],nums[k]=nums[k],nums[j]\n",
    "            k-=1\n",
    "        else:\n",
    "            j+=1"
   ]
  },
  {
   "cell_type": "code",
   "execution_count": 39,
   "id": "2b6ea849",
   "metadata": {},
   "outputs": [
    {
     "name": "stdout",
     "output_type": "stream",
     "text": [
      "[3, 2, 4, 1, 5, 9, 6, 10, 50, 20, 40, 20]\n"
     ]
    }
   ],
   "source": [
    "nums=[10,5,6,3,20,9,40,20,50,1,4,2]\n",
    "scope=(5,10)\n",
    "partition_range(nums,scope)\n",
    "print(nums)"
   ]
  },
  {
   "cell_type": "markdown",
   "id": "ea89dd7c",
   "metadata": {},
   "source": [
    "# minimum difference in an array"
   ]
  },
  {
   "cell_type": "markdown",
   "id": "38b106ea",
   "metadata": {},
   "source": [
    "- I/P: [5,3,8]\n",
    "- O/P: 2"
   ]
  },
  {
   "cell_type": "code",
   "execution_count": 5,
   "id": "9c8f3bf1",
   "metadata": {},
   "outputs": [],
   "source": [
    "# naive solution\n",
    "# T/C: O(n^2)\n",
    "# S/C: O(1)\n",
    "def get_min_diff(nums):\n",
    "    if len(nums)<2:\n",
    "        return float('inf')\n",
    "    min_diff=float('inf')\n",
    "    for i in range(len(nums)-1):\n",
    "        for j in range(i+1,len(nums)):\n",
    "            min_diff=min(min_diff,abs(nums[i]-nums[j]))\n",
    "    return min_diff"
   ]
  },
  {
   "cell_type": "code",
   "execution_count": 6,
   "id": "a446c3af",
   "metadata": {},
   "outputs": [
    {
     "data": {
      "text/plain": [
       "2"
      ]
     },
     "execution_count": 6,
     "metadata": {},
     "output_type": "execute_result"
    }
   ],
   "source": [
    "nums=[5,3,8]\n",
    "get_min_diff(nums)"
   ]
  },
  {
   "cell_type": "code",
   "execution_count": 7,
   "id": "f81d3283",
   "metadata": {},
   "outputs": [],
   "source": [
    "# using sorting\n",
    "# T/C: O(nlogn)\n",
    "# S/C: O(1)\n",
    "def get_min_diff1(nums):\n",
    "    if len(nums)<2:\n",
    "        return float('inf')\n",
    "    min_diff=float('inf')\n",
    "    nums.sort()\n",
    "    for i in range(len(nums)-1):\n",
    "        min_diff=min(min_diff,nums[i+1]-nums[i])\n",
    "    return min_diff"
   ]
  },
  {
   "cell_type": "code",
   "execution_count": 8,
   "id": "cad5186d",
   "metadata": {},
   "outputs": [
    {
     "data": {
      "text/plain": [
       "2"
      ]
     },
     "execution_count": 8,
     "metadata": {},
     "output_type": "execute_result"
    }
   ],
   "source": [
    "nums=[5,3,8]\n",
    "get_min_diff1(nums)"
   ]
  },
  {
   "cell_type": "markdown",
   "id": "f9554e27",
   "metadata": {},
   "source": [
    "# merge overlapping intervals"
   ]
  },
  {
   "cell_type": "markdown",
   "id": "1ecf532c",
   "metadata": {},
   "source": [
    "- I/P: [[1,3],[2,4],[5,7],[6,8]]\n",
    "- O/P: [[1,4],[5,8]]"
   ]
  },
  {
   "cell_type": "code",
   "execution_count": 13,
   "id": "114d9f7d",
   "metadata": {},
   "outputs": [],
   "source": [
    "# naive solution\n",
    "# T/C: O(n^3)\n",
    "# psuedo code\n",
    "# for i in [0~n-2]:\n",
    "#     for j in [i+1,n-1]:\n",
    "#         check whether interval[i] and interval[j] are overlapping\n",
    "#             if then, merge two interval and delete one # delete operation in list takes O(n)"
   ]
  },
  {
   "cell_type": "code",
   "execution_count": 14,
   "id": "91b5326c",
   "metadata": {},
   "outputs": [],
   "source": [
    "# using sorting\n",
    "# T/C: O(nlogn)\n",
    "# S/C: O(1)\n",
    "def merge_intervals(intervals):\n",
    "    merged=[]\n",
    "    intervals.sort(key=lambda x:x[0])\n",
    "    cur=intervals[0]\n",
    "    for i in range(1,len(intervals)):\n",
    "        if cur[1]<intervals[i][0]:\n",
    "            merged.append(cur[:])\n",
    "            cur=intervals[i]\n",
    "        elif cur[1]<intervals[i][1]:\n",
    "            cur[1]=intervals[i][1]\n",
    "    merged.append(cur[:])\n",
    "    return merged"
   ]
  },
  {
   "cell_type": "code",
   "execution_count": 15,
   "id": "3cc9f12d",
   "metadata": {},
   "outputs": [
    {
     "data": {
      "text/plain": [
       "[[1, 5], [6, 10]]"
      ]
     },
     "execution_count": 15,
     "metadata": {},
     "output_type": "execute_result"
    }
   ],
   "source": [
    "#intervals=[[1,3],[2,4],[5,7],[6,8]]\n",
    "intervals=[[7,9],[6,10],[4,5],[1,3],[2,4]]\n",
    "merge_intervals(intervals)"
   ]
  },
  {
   "cell_type": "markdown",
   "id": "e35d8f62",
   "metadata": {},
   "source": [
    "# meeting maximum guests"
   ]
  },
  {
   "cell_type": "markdown",
   "id": "a4604584",
   "metadata": {},
   "source": [
    "- i-th guest arrive at arrive[i] time, and departure at departure[i]"
   ]
  },
  {
   "cell_type": "markdown",
   "id": "d46659cf",
   "metadata": {},
   "source": [
    "- I/P: arrive=[900,940], departure=[1000,1030]\n",
    "- O/p: 2"
   ]
  },
  {
   "cell_type": "markdown",
   "id": "54c193bb",
   "metadata": {},
   "source": [
    "- I/P: arrive=[800,700,600,500], departure=[840,820,830,530]\n",
    "- O/P: 3"
   ]
  },
  {
   "cell_type": "code",
   "execution_count": 20,
   "id": "ce57d607",
   "metadata": {},
   "outputs": [],
   "source": [
    "# T/C: O(nlogn)\n",
    "# S/C: O(1)\n",
    "def maximum_guests(arrive,departure):\n",
    "    arrive.sort()\n",
    "    departure.sort()\n",
    "    max_guests, cur_guests=0,0\n",
    "    i,j=0,0\n",
    "    while i<len(arrive) and j<len(departure):\n",
    "        if arrive[i]<=departure[j]:\n",
    "            i+=1\n",
    "            cur_guests+=1\n",
    "        else:\n",
    "            j+=1\n",
    "            cur_guests-=1\n",
    "        max_guests=max(max_guests,cur_guests)\n",
    "    return max_guests"
   ]
  },
  {
   "cell_type": "code",
   "execution_count": 21,
   "id": "93b61b04",
   "metadata": {},
   "outputs": [
    {
     "data": {
      "text/plain": [
       "3"
      ]
     },
     "execution_count": 21,
     "metadata": {},
     "output_type": "execute_result"
    }
   ],
   "source": [
    "arr=[800,700,600,500]\n",
    "dep=[840,820,830,530]\n",
    "maximum_guests(arr,dep)"
   ]
  },
  {
   "cell_type": "markdown",
   "id": "c692228d",
   "metadata": {},
   "source": [
    "# cycle sort"
   ]
  },
  {
   "cell_type": "markdown",
   "id": "94cee169",
   "metadata": {},
   "source": [
    "- worst case O(n^2)\n",
    "- minimum memory writing sort algorithm\n",
    "- in-place and not stable\n",
    "- it is useful when solve the problem which finding minimum swap to make sorted array from unsorted"
   ]
  },
  {
   "cell_type": "code",
   "execution_count": 22,
   "id": "db981466",
   "metadata": {},
   "outputs": [],
   "source": [
    "# for not duplicated\n",
    "def cycle_sort(nums):\n",
    "    for cycle_start in range(len(nums)-1):\n",
    "        item=nums[cycle_start]\n",
    "        pos=cycle_start\n",
    "        for i in range(cycle_start+1,len(nums)):\n",
    "            if item>nums[i]:\n",
    "                pos+=1\n",
    "        nums[pos],item=item,nums[pos]\n",
    "        while pos!=cycle_start:\n",
    "            pos=cycle_start\n",
    "            for i in range(cycle_start+1,len(nums)):\n",
    "                if item>nums[i]:\n",
    "                    pos+=1\n",
    "            nums[pos],item=item,nums[pos]"
   ]
  },
  {
   "cell_type": "code",
   "execution_count": 25,
   "id": "735d21ec",
   "metadata": {},
   "outputs": [
    {
     "name": "stdout",
     "output_type": "stream",
     "text": [
      "[1, 2, 3, 4, 5]\n"
     ]
    }
   ],
   "source": [
    "nums=[2,4,5,1,3]\n",
    "cycle_sort(nums)\n",
    "print(nums)"
   ]
  },
  {
   "cell_type": "markdown",
   "id": "195ec3a1",
   "metadata": {},
   "source": [
    "- Exercise 1) modify cycle_sort to sort duplicated array"
   ]
  },
  {
   "cell_type": "markdown",
   "id": "ea556043",
   "metadata": {},
   "source": [
    "- Exercise 2) count minimum swap for sort"
   ]
  },
  {
   "cell_type": "markdown",
   "metadata": {},
   "source": [
    "# heap sort"
   ]
  },
  {
   "cell_type": "code",
<<<<<<< HEAD
   "execution_count": null,
   "id": "687d81d1",
=======
   "execution_count": 5,
>>>>>>> 190276422948274b5144174017fcc8e5eebc05b3
   "metadata": {},
   "outputs": [],
   "source": [
    "# heap sort\n",
    "def heapify(nums,n,i):\n",
    "    largest=i\n",
    "    left=2*i+1\n",
    "    right=2*i+2\n",
    "    if left<n and nums[left]>nums[largest]:\n",
    "        largest=left\n",
    "    if right<n and nums[right]>nums[largest]:\n",
    "        largest=right\n",
    "    if largest !=i:\n",
    "        nums[largest],nums[i]=nums[i],nums[largest]\n",
    "        heapify(nums,n,largest)\n",
    "\n",
    "def build_heap(nums,n):\n",
    "    for i in range(n//2-1,-1,-1):\n",
    "        heapify(nums,n,i)\n",
    "\n",
    "def heap_sort(nums):\n",
    "    build_heap(nums,len(nums))\n",
    "    for i in range(len(nums)-1,0,-1):\n",
    "        nums[0],nums[i]=nums[i],nums[0]\n",
    "        heapify(nums,i,0)"
   ]
  },
  {
   "cell_type": "code",
   "execution_count": 6,
   "metadata": {},
   "outputs": [
    {
     "name": "stdout",
     "output_type": "stream",
     "text": [
      "[5, 6, 7, 11, 12, 13]\n"
     ]
    }
   ],
   "source": [
    "nums=[12,11,13,5,6,7]\n",
    "heap_sort(nums)\n",
    "print(nums)"
   ]
  },
  {
   "cell_type": "markdown",
   "metadata": {},
   "source": [
    "# counting sort"
   ]
  },
  {
   "cell_type": "markdown",
   "metadata": {},
   "source": [
    "- when elements in array are in a limited range, counting sort is useful\n",
    "- T/C: O(n+k), k==range of element"
   ]
  },
  {
   "cell_type": "markdown",
   "metadata": {},
   "source": [
    "- T/C: O(n+k)\n",
    "- S/C: O(n+k)\n",
    "- stable\n",
    "- used as a subroutine in radix sort"
   ]
  },
  {
   "cell_type": "code",
   "execution_count": 10,
   "metadata": {},
   "outputs": [],
   "source": [
    "# naive solution for integer values\n",
    "# T/C: O(n+k)\n",
    "# S/C: O(k)\n",
    "def counting_sort(nums,k): # range == [0,k-1]\n",
    "    count=[0]*k\n",
    "    for num in nums:\n",
    "        count[num]+=1\n",
    "\n",
    "    idx=0\n",
    "    for i in range(k):\n",
    "        for j in range(count[i]):\n",
    "            nums[idx]=i\n",
    "            idx+=1"
   ]
  },
  {
   "cell_type": "code",
   "execution_count": 11,
   "metadata": {},
   "outputs": [
    {
     "name": "stdout",
     "output_type": "stream",
     "text": [
      "[0, 1, 1, 1, 4, 4]\n"
     ]
    }
   ],
   "source": [
    "nums=[1,4,4,0,1,1]\n",
    "counting_sort(nums,5)\n",
    "print(nums)"
   ]
  },
  {
   "cell_type": "code",
   "execution_count": 8,
   "metadata": {},
   "outputs": [],
   "source": [
    "# general solution \n",
    "# T/C: O(n+k)\n",
    "# S/C: O(n+k) # for count and tmp array\n",
    "def counting_sort1(nums,k):\n",
    "    count=[0]*k\n",
    "    for num in nums:\n",
    "        count[num]+=1\n",
    "    for i in range(1,len(count)):\n",
    "        count[i]+=count[i-1]\n",
    "    \n",
    "    #print(count)\n",
    "    \n",
    "    tmp=[0]*len(nums)\n",
    "    for i in range(len(nums)-1,-1,-1):\n",
    "        tmp[count[nums[i]]-1]=nums[i]\n",
    "        count[nums[i]]-=1\n",
    "    for i in range(len(nums)):\n",
    "        nums[i]=tmp[i]"
   ]
  },
  {
   "cell_type": "code",
   "execution_count": 7,
   "metadata": {},
   "outputs": [
    {
     "name": "stdout",
     "output_type": "stream",
     "text": [
      "[2, 2, 3, 4, 8, 85, 302, 490]\n"
     ]
    }
   ],
   "source": [
    "nums=[2,490,85,8,4,302,2,3]\n",
    "counting_sort1(nums,491)\n",
    "print(nums)"
   ]
  },
  {
   "cell_type": "markdown",
   "metadata": {},
   "source": [
    "# radix sort"
   ]
  },
  {
   "cell_type": "code",
   "execution_count": 5,
   "metadata": {},
   "outputs": [],
   "source": [
    "def sub_counting_sort(nums,exp):\n",
    "    count=[0]*10\n",
    "    for num in nums:\n",
    "        count[(num//exp)%10]+=1\n",
    "    for i in range(1,len(count)):\n",
    "        count[i]+=count[i-1]\n",
    "    output=[0]*len(nums)\n",
    "    for i in range(len(nums)-1,-1,-1):\n",
    "        output[count[(nums[i]//exp)%10]-1]=nums[i]\n",
    "        count[(nums[i]//exp)%10]-=1\n",
    "    for i in range(len(nums)):\n",
    "        nums[i]=output[i]"
   ]
  },
  {
   "cell_type": "code",
   "execution_count": 11,
   "metadata": {},
   "outputs": [],
   "source": [
    "# T/C: O(d*(n+b)), d==the max number of digit, b==base\n",
    "# S/C: O(n+b) for sub counting sort\n",
    "def radix_sort(nums):\n",
    "    max_num=max(nums)\n",
    "    exp=1\n",
    "    while (max_num//exp)>0:\n",
    "        sub_counting_sort(nums,exp)\n",
    "        exp*=10\n",
    "    "
   ]
  },
  {
   "cell_type": "code",
   "execution_count": 10,
   "metadata": {},
   "outputs": [
    {
     "name": "stdout",
     "output_type": "stream",
     "text": [
      "[10, 12, 32, 78]\n"
     ]
    }
   ],
   "source": [
    "nums=[12,32,78,10]\n",
    "radix_sort(nums)\n",
    "print(nums)"
   ]
  },
  {
   "cell_type": "markdown",
   "metadata": {},
   "source": [
    "# bucket sort"
   ]
  },
  {
   "cell_type": "markdown",
   "metadata": {},
   "source": [
    "###### when assuming that range is 0~max(nums)"
   ]
  },
  {
   "cell_type": "markdown",
   "metadata": {},
   "source": [
    "- Best case : O(n) when k is similar to n\n",
    "- worst case : O(n^2) to sort one bucket when all numbers go to the same bucket"
   ]
  },
  {
   "cell_type": "code",
   "execution_count": 24,
   "metadata": {},
   "outputs": [],
   "source": [
    "# T/C: O(n+k*(n^2)/k +k), where k==the number of buckets\n",
    "# S/C: O(n)\n",
    "# should consider overflow later!\n",
    "def bucket_sort(nums,k):\n",
    "    max_num=max(nums)+1 # tricky part\n",
    "    \n",
    "    buckets=[[] for i in range(k)]\n",
    "    \n",
    "    for num in nums:\n",
    "        buckets[k*num//max_num].append(num)\n",
    "    \n",
    "    for bucket in buckets:\n",
    "        bucket.sort()\n",
    "    \n",
    "    idx=0\n",
    "    for bucket in buckets:\n",
    "        for num in bucket:\n",
    "            nums[idx]=num\n",
    "            idx+=1"
   ]
  },
  {
   "cell_type": "code",
   "execution_count": 25,
   "metadata": {},
   "outputs": [
    {
     "name": "stdout",
     "output_type": "stream",
     "text": [
      "[3, 9, 21, 25, 29, 43, 47, 51]\n"
     ]
    }
   ],
   "source": [
    "nums=[29,25,3,51,9,47,21,43]\n",
    "bucket_sort(nums,5)\n",
    "print(nums)"
   ]
  },
  {
   "cell_type": "markdown",
   "metadata": {},
   "source": [
    "# overview of sorting algorithm"
   ]
  },
  {
   "cell_type": "markdown",
   "metadata": {},
   "source": [
    "1) binary array ==> partition algorithm of quick sort<br>\n",
    "2) three type values ==> partition algorithm of quick sort<br>\n",
    "3) array of size n and small ranged value ==> counting sort<br>\n",
    "4) array of size n and range in of size n^2  or n^3 ==> radix sort<br>\n",
    "5) array of uniformly distributed data over a range ==> bucket sort<br>\n",
    "6) when memory writes are costly ==> selection sort or cycle sort<br>\n",
    "7) when adjacent swaps are allowed ==> bubble sort or cocktail sort<br>\n",
    "8) when array size is small ==> selection sort or insertion sort<br>\n",
    "9) when available extra memory is left ==> merge sort or quick sort or shell sort<br>"
   ]
  }
 ],
 "metadata": {
  "kernelspec": {
   "display_name": "Python 3",
   "language": "python",
   "name": "python3"
  },
  "language_info": {
   "codemirror_mode": {
    "name": "ipython",
    "version": 3
   },
   "file_extension": ".py",
   "mimetype": "text/x-python",
   "name": "python",
   "nbconvert_exporter": "python",
   "pygments_lexer": "ipython3",
   "version": "3.8.8"
  }
 },
 "nbformat": 4,
 "nbformat_minor": 5
}
