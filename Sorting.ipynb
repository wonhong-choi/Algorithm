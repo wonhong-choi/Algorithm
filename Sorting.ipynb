{
 "cells": [
  {
   "cell_type": "markdown",
   "id": "77f29c3b",
   "metadata": {},
   "source": [
    "# stablity in sort"
   ]
  },
  {
   "cell_type": "markdown",
   "id": "7eea77e2",
   "metadata": {},
   "source": [
    "- stable sorting algorithm: bubble sort, insertion sort, merge sort,...\n",
    "- unstable sorting algorithm: selection sort, quick sort, heap sort,..."
   ]
  },
  {
   "cell_type": "code",
   "execution_count": 15,
   "id": "d3ba512e",
   "metadata": {},
   "outputs": [
    {
     "name": "stdout",
     "output_type": "stream",
     "text": [
      "[('Aril', 50), ('Pyuah', 50), ('Ayan', 80), ('Ramesh', 80)]\n"
     ]
    }
   ],
   "source": [
    "people=[('Aril',50),('Ayan',80),('Pyuah',50),('Ramesh',80)]\n",
    "\n",
    "print(sorted(people,key=lambda x:x[1]))"
   ]
  },
  {
   "cell_type": "markdown",
   "id": "6ff12ef0",
   "metadata": {},
   "source": [
    "# bubble sort"
   ]
  },
  {
   "cell_type": "code",
   "execution_count": 25,
   "id": "40d466d0",
   "metadata": {},
   "outputs": [],
   "source": [
    "# T/C\n",
    "# best case: O(n), when already sorted\n",
    "# worst case: O(n^2)\n",
    "# average case: O(n^2)\n",
    "\n",
    "\n",
    "# basic\n",
    "def bubble_sort1(nums):\n",
    "    for i in range(len(nums)-1):\n",
    "        for j in range(len(nums)-i-1):\n",
    "            if nums[j]>nums[j+1]:\n",
    "                nums[j],nums[j+1]=nums[j+1],nums[j]\n",
    "        #print(nums)\n",
    "\n",
    "# optimized\n",
    "def bubble_sort2(nums):\n",
    "    for i in range(len(nums)-1):\n",
    "        for j in range(len(nums)-i-1):\n",
    "            if nums[j]>nums[j+1]:\n",
    "                nums[j],nums[j+1]=nums[j+1],nums[j]\n",
    "\n",
    "# best optimized_ when already sorted \n",
    "def bubble_sort3(nums):\n",
    "    for i in range(len(nums)-1):\n",
    "        swapped=False\n",
    "        for j in range(len(nums)-i-1):\n",
    "            if nums[j]>nums[j+1]:\n",
    "                nums[j],nums[j+1]=nums[j+1],nums[j]\n",
    "                swapped=True\n",
    "        if not swappted: # check already sorted in every pass\n",
    "            break"
   ]
  },
  {
   "cell_type": "code",
   "execution_count": 26,
   "id": "8715531e",
   "metadata": {},
   "outputs": [
    {
     "name": "stdout",
     "output_type": "stream",
     "text": [
      "[5, 8, 10, 20]\n"
     ]
    }
   ],
   "source": [
    "nums=[10,8,20,5]\n",
    "bubble_sort1(nums)\n",
    "print(nums)"
   ]
  },
  {
   "cell_type": "markdown",
   "id": "d57be62d",
   "metadata": {},
   "source": [
    "# selection sort"
   ]
  },
  {
   "cell_type": "code",
   "execution_count": 43,
   "id": "14683662",
   "metadata": {},
   "outputs": [],
   "source": [
    "# T/C\n",
    "# O(n^2)\n",
    "\n",
    "# naive\n",
    "def selection_sort1(nums):\n",
    "    tmp=[0 for i in range(len(nums))]\n",
    "    \n",
    "    for i in range(len(tmp)):\n",
    "        min_idx=0\n",
    "        for j in range(1,len(nums)):\n",
    "            if nums[j]<nums[min_idx]:\n",
    "                min_idx=j\n",
    "        tmp[i]=nums[min_idx]\n",
    "        nums[min_idx]=float('inf')\n",
    "    \n",
    "    for i in range(len(nums)):\n",
    "        nums[i]=tmp[i]\n",
    "\n",
    "# efficient solution_in-place\n",
    "def selection_sort2(nums):\n",
    "    for i in range(len(nums)-1):\n",
    "        min_idx=i\n",
    "        for j in range(i+1,len(nums)):\n",
    "            if nums[min_idx]>nums[j]:\n",
    "                min_idx=j\n",
    "        nums[i],nums[min_idx]=nums[min_idx],nums[i]\n"
   ]
  },
  {
   "cell_type": "code",
   "execution_count": 44,
   "id": "00c906e7",
   "metadata": {},
   "outputs": [
    {
     "name": "stdout",
     "output_type": "stream",
     "text": [
      "[2, 5, 8, 10, 18, 20]\n"
     ]
    }
   ],
   "source": [
    "nums=[10,5,8,20,2,18]\n",
    "selection_sort2(nums)\n",
    "print(nums)"
   ]
  },
  {
   "cell_type": "markdown",
   "id": "d02517ee",
   "metadata": {},
   "source": [
    "# insertion sort"
   ]
  },
  {
   "cell_type": "code",
   "execution_count": 56,
   "id": "c458de49",
   "metadata": {},
   "outputs": [],
   "source": [
    "# T/C\n",
    "# worst case: O(n^2), when reversed order\n",
    "# best case: O(n), when already sorted\n",
    "# average case: O(n^2)\n",
    "\n",
    "def insertion_sort1(nums):\n",
    "    for i in range(1,len(nums)):\n",
    "        key=nums[i]\n",
    "        j=i-1\n",
    "        while j>=0 and nums[j]>key:\n",
    "            nums[j+1]=nums[j]\n",
    "            j-=1\n",
    "        nums[j+1]=key\n",
    "        \n",
    "    \n",
    "def insertion_sort2(nums):\n",
    "    for i in range(1,len(nums)):\n",
    "        for j in range(i,0,-1):\n",
    "            if nums[j]<nums[j-1]:\n",
    "                nums[j],nums[j-1]=nums[j-1],nums[j]\n",
    "            else:\n",
    "                break"
   ]
  },
  {
   "cell_type": "code",
   "execution_count": 57,
   "id": "9cc8efe8",
   "metadata": {},
   "outputs": [
    {
     "name": "stdout",
     "output_type": "stream",
     "text": [
      "[5, 6, 10, 20, 30, 40]\n"
     ]
    }
   ],
   "source": [
    "nums=[5,6,10,20,30,40]\n",
    "insertion_sort1(nums)\n",
    "print(nums)"
   ]
  },
  {
   "cell_type": "markdown",
   "id": "97307ab6",
   "metadata": {},
   "source": [
    "# merge sort"
   ]
  },
  {
   "cell_type": "markdown",
   "id": "4c7cb542",
   "metadata": {},
   "source": [
    "###### merge two sorted array"
   ]
  },
  {
   "cell_type": "code",
   "execution_count": 15,
   "id": "701fd823",
   "metadata": {},
   "outputs": [],
   "source": [
    "# naive solution\n",
    "# T/C: O((m+n)log(m+n))\n",
    "# S/C: O(m+n)\n",
    "def merge1(nums1,nums2):\n",
    "    ret=nums1.copy()\n",
    "    for num in nums2:\n",
    "        ret.append(num)\n",
    "    \n",
    "    ret.sort()\n",
    "    return ret\n",
    "\n",
    "# linear solution\n",
    "# T/C: O(m+n)\n",
    "# S/C: O(m+n)\n",
    "def merge2(nums1,nums2):\n",
    "    ret=[]\n",
    "    \n",
    "    r1,r2=0,0\n",
    "    while r1<len(nums1) and r2<len(nums2):\n",
    "        if nums1[r1]>=nums2[r2]:\n",
    "            ret.append(nums2[r2])\n",
    "            r2+=1\n",
    "        else:\n",
    "            ret.append(nums1[r1])\n",
    "            r1+=1\n",
    "    \n",
    "    while r1<len(nums1):\n",
    "        ret.append(nums1[r1])\n",
    "        r1+=1\n",
    "    while r2<len(nums2):\n",
    "        ret.append(nums2[r2])\n",
    "        r2+=1\n",
    "    return ret"
   ]
  },
  {
   "cell_type": "code",
   "execution_count": 16,
   "id": "356df4b9",
   "metadata": {},
   "outputs": [
    {
     "name": "stdout",
     "output_type": "stream",
     "text": [
      "[5, 6, 6, 10, 15, 15, 20]\n"
     ]
    }
   ],
   "source": [
    "nums1=[10,15,20]\n",
    "nums2=[5,6,6,15]\n",
    "print(merge2(nums1,nums2))"
   ]
  },
  {
   "cell_type": "markdown",
   "id": "be029d53",
   "metadata": {},
   "source": [
    "###### merge function of merge sort\n",
    "- I/P: [...,10,15,20,11,30,...], low,mid,high\n",
    "- nums[low]=10,nums[mid]=20,nums[high]=30\n",
    "- O/P:[...,10,11,15,20,30,...]\n",
    "- constraints: low<=mid<high"
   ]
  },
  {
   "cell_type": "code",
   "execution_count": 19,
   "id": "f4a30d30",
   "metadata": {},
   "outputs": [],
   "source": [
    "def merge(nums,low,mid,high):\n",
    "    left,right=[],[]\n",
    "    for i in range(low,mid+1):\n",
    "        left.append(nums[i])\n",
    "    for i in range(mid+1,high+1):\n",
    "        right.append(nums[i])\n",
    "    \n",
    "    r1,r2=0,0\n",
    "    w=low\n",
    "    while r1<len(left) and r2<len(right):\n",
    "        if left[r1]>=right[r2]:\n",
    "            nums[w]=right[r2]\n",
    "            r2+=1\n",
    "        else:\n",
    "            nums[w]=left[r1]\n",
    "            r1+=1\n",
    "        w+=1\n",
    "    while r1<len(left):\n",
    "        nums[w]=left[r1]\n",
    "        r1+=1\n",
    "        w+=1\n",
    "    while r2<len(right):\n",
    "        nums[w]=right[r2]\n",
    "        r2+=1\n",
    "        w+=1"
   ]
  },
  {
   "cell_type": "code",
   "execution_count": 20,
   "id": "1c7ce236",
   "metadata": {},
   "outputs": [
    {
     "data": {
      "text/plain": [
       "[53, 51, 8, 10, 11, 15, 20, 30, 5, 63, 7, 89]"
      ]
     },
     "execution_count": 20,
     "metadata": {},
     "output_type": "execute_result"
    }
   ],
   "source": [
    "nums=[53,51,8,10,15,20,11,30,5,63,7,89]\n",
    "merge(nums,3,5,7)\n",
    "nums"
   ]
  },
  {
   "cell_type": "markdown",
   "id": "72758521",
   "metadata": {},
   "source": [
    "###### merge sort "
   ]
  },
  {
   "cell_type": "code",
   "execution_count": 21,
   "id": "01eaca7d",
   "metadata": {},
   "outputs": [],
   "source": [
    "# T/C: O(nlogn)\n",
    "# S/C: O(n), because space allocated and then, deallocated after sorted\n",
    "def merge_sort(nums,l,r):\n",
    "    if r>l: # at least 2 elements\n",
    "        mid=l+(r-l)//2\n",
    "        merge_sort(nums,l,mid)\n",
    "        merge_sort(nums,mid+1,r)\n",
    "        merge(nums,l,mid,r)        "
   ]
  },
  {
   "cell_type": "code",
   "execution_count": 22,
   "id": "a980522f",
   "metadata": {},
   "outputs": [
    {
     "data": {
      "text/plain": [
       "[5, 7, 8, 10, 11, 15, 20, 30, 51, 53, 63, 89]"
      ]
     },
     "execution_count": 22,
     "metadata": {},
     "output_type": "execute_result"
    }
   ],
   "source": [
    "nums=[53,51,8,10,15,20,11,30,5,63,7,89]\n",
    "merge_sort(nums,0,len(nums)-1)\n",
    "nums"
   ]
  },
  {
   "cell_type": "markdown",
   "id": "bcc52243",
   "metadata": {},
   "source": [
    "# intersection of two sorted array"
   ]
  },
  {
   "cell_type": "markdown",
   "id": "3183ad8d",
   "metadata": {},
   "source": [
    "- I/P: [3,5,10,10,10,15,15,20], [5,10,10,15,30]\n",
    "- O/P: 5 10 15"
   ]
  },
  {
   "cell_type": "code",
   "execution_count": 8,
   "id": "e952af6c",
   "metadata": {},
   "outputs": [],
   "source": [
    "# brute force solution\n",
    "# T/C: O(m*n)\n",
    "# S/C: O(inter(nums1,nums2))\n",
    "def intersection1(nums1,nums2):\n",
    "    inter=[]\n",
    "    for i in range(len(nums1)):\n",
    "        if i>0 and nums1[i]==nums1[i-1]:\n",
    "            continue\n",
    "        for j in range(len(nums2)):\n",
    "            if nums1[i]==nums2[j]:\n",
    "                inter.append(nums1[i])\n",
    "                break\n",
    "    return inter"
   ]
  },
  {
   "cell_type": "code",
   "execution_count": 9,
   "id": "14d69da4",
   "metadata": {},
   "outputs": [],
   "source": [
    "# linear solution\n",
    "# T/C: O(m+n)\n",
    "# S/C: O(inter(nums1,nums2))\n",
    "def intersection2(nums1,nums2):\n",
    "    inter=[]\n",
    "    r1,r2=0,0\n",
    "    while r1<len(nums1) and r2<len(nums2):\n",
    "        if nums1[r1]==nums2[r2]:\n",
    "            inter_num=nums1[r1]\n",
    "            inter.append(inter_num)\n",
    "            while nums1[r1]==inter_num:\n",
    "                r1+=1\n",
    "            while nums2[r2]==inter_num:\n",
    "                r2+=1\n",
    "        elif nums1[r1]>nums2[r2]:\n",
    "            r2+=1\n",
    "        else:\n",
    "            r1+=1\n",
    "    return inter"
   ]
  },
  {
   "cell_type": "code",
   "execution_count": 11,
   "id": "6c21a16c",
   "metadata": {},
   "outputs": [
    {
     "name": "stdout",
     "output_type": "stream",
     "text": [
      "[20]\n"
     ]
    }
   ],
   "source": [
    "nums1=[2,20,20,40,60]\n",
    "nums2=[10,20,20,20]\n",
    "print(intersection1(nums1,nums2))"
   ]
  },
  {
   "cell_type": "code",
   "execution_count": null,
   "id": "ad3d22e6",
   "metadata": {},
   "outputs": [],
   "source": []
  }
 ],
 "metadata": {
  "kernelspec": {
   "display_name": "Python 3",
   "language": "python",
   "name": "python3"
  },
  "language_info": {
   "codemirror_mode": {
    "name": "ipython",
    "version": 3
   },
   "file_extension": ".py",
   "mimetype": "text/x-python",
   "name": "python",
   "nbconvert_exporter": "python",
   "pygments_lexer": "ipython3",
   "version": "3.8.8"
  }
 },
 "nbformat": 4,
 "nbformat_minor": 5
}
