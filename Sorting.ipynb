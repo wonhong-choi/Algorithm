{
 "cells": [
  {
   "cell_type": "markdown",
   "id": "77f29c3b",
   "metadata": {},
   "source": [
    "# stablity in sort"
   ]
  },
  {
   "cell_type": "markdown",
   "id": "7eea77e2",
   "metadata": {},
   "source": [
    "- stable sorting algorithm: bubble sort, insertion sort, merge sort,...\n",
    "- unstable sorting algorithm: selection sort, quick sort, heap sort,..."
   ]
  },
  {
   "cell_type": "code",
   "execution_count": 15,
   "id": "d3ba512e",
   "metadata": {},
   "outputs": [
    {
     "name": "stdout",
     "output_type": "stream",
     "text": [
      "[('Aril', 50), ('Pyuah', 50), ('Ayan', 80), ('Ramesh', 80)]\n"
     ]
    }
   ],
   "source": [
    "people=[('Aril',50),('Ayan',80),('Pyuah',50),('Ramesh',80)]\n",
    "\n",
    "print(sorted(people,key=lambda x:x[1]))"
   ]
  },
  {
   "cell_type": "markdown",
   "id": "6ff12ef0",
   "metadata": {},
   "source": [
    "# bubble sort"
   ]
  },
  {
   "cell_type": "code",
   "execution_count": 25,
   "id": "40d466d0",
   "metadata": {},
   "outputs": [],
   "source": [
    "# T/C\n",
    "# best case: O(n), when already sorted\n",
    "# worst case: O(n^2)\n",
    "# average case: O(n^2)\n",
    "\n",
    "\n",
    "# basic\n",
    "def bubble_sort1(nums):\n",
    "    for i in range(len(nums)-1):\n",
    "        for j in range(len(nums)-i-1):\n",
    "            if nums[j]>nums[j+1]:\n",
    "                nums[j],nums[j+1]=nums[j+1],nums[j]\n",
    "        #print(nums)\n",
    "\n",
    "# optimized\n",
    "def bubble_sort2(nums):\n",
    "    for i in range(len(nums)-1):\n",
    "        for j in range(len(nums)-i-1):\n",
    "            if nums[j]>nums[j+1]:\n",
    "                nums[j],nums[j+1]=nums[j+1],nums[j]\n",
    "\n",
    "# best optimized_ when already sorted \n",
    "def bubble_sort3(nums):\n",
    "    for i in range(len(nums)-1):\n",
    "        swapped=False\n",
    "        for j in range(len(nums)-i-1):\n",
    "            if nums[j]>nums[j+1]:\n",
    "                nums[j],nums[j+1]=nums[j+1],nums[j]\n",
    "                swapped=True\n",
    "        if not swappted: # check already sorted in every pass\n",
    "            break"
   ]
  },
  {
   "cell_type": "code",
   "execution_count": 26,
   "id": "8715531e",
   "metadata": {},
   "outputs": [
    {
     "name": "stdout",
     "output_type": "stream",
     "text": [
      "[5, 8, 10, 20]\n"
     ]
    }
   ],
   "source": [
    "nums=[10,8,20,5]\n",
    "bubble_sort1(nums)\n",
    "print(nums)"
   ]
  },
  {
   "cell_type": "markdown",
   "id": "d57be62d",
   "metadata": {},
   "source": [
    "# selection sort"
   ]
  },
  {
   "cell_type": "code",
   "execution_count": 43,
   "id": "14683662",
   "metadata": {},
   "outputs": [],
   "source": [
    "# T/C\n",
    "# O(n^2)\n",
    "\n",
    "# naive\n",
    "def selection_sort1(nums):\n",
    "    tmp=[0 for i in range(len(nums))]\n",
    "    \n",
    "    for i in range(len(tmp)):\n",
    "        min_idx=0\n",
    "        for j in range(1,len(nums)):\n",
    "            if nums[j]<nums[min_idx]:\n",
    "                min_idx=j\n",
    "        tmp[i]=nums[min_idx]\n",
    "        nums[min_idx]=float('inf')\n",
    "    \n",
    "    for i in range(len(nums)):\n",
    "        nums[i]=tmp[i]\n",
    "\n",
    "# efficient solution_in-place\n",
    "def selection_sort2(nums):\n",
    "    for i in range(len(nums)-1):\n",
    "        min_idx=i\n",
    "        for j in range(i+1,len(nums)):\n",
    "            if nums[min_idx]>nums[j]:\n",
    "                min_idx=j\n",
    "        nums[i],nums[min_idx]=nums[min_idx],nums[i]\n"
   ]
  },
  {
   "cell_type": "code",
   "execution_count": 44,
   "id": "00c906e7",
   "metadata": {},
   "outputs": [
    {
     "name": "stdout",
     "output_type": "stream",
     "text": [
      "[2, 5, 8, 10, 18, 20]\n"
     ]
    }
   ],
   "source": [
    "nums=[10,5,8,20,2,18]\n",
    "selection_sort2(nums)\n",
    "print(nums)"
   ]
  },
  {
   "cell_type": "markdown",
   "id": "d02517ee",
   "metadata": {},
   "source": [
    "# insertion sort"
   ]
  },
  {
   "cell_type": "code",
   "execution_count": 56,
   "id": "c458de49",
   "metadata": {},
   "outputs": [],
   "source": [
    "# T/C\n",
    "# worst case: O(n^2), when reversed order\n",
    "# best case: O(n), when already sorted\n",
    "# average case: O(n^2)\n",
    "\n",
    "def insertion_sort1(nums):\n",
    "    for i in range(1,len(nums)):\n",
    "        key=nums[i]\n",
    "        j=i-1\n",
    "        while j>=0 and nums[j]>key:\n",
    "            nums[j+1]=nums[j]\n",
    "            j-=1\n",
    "        nums[j+1]=key\n",
    "        \n",
    "    \n",
    "def insertion_sort2(nums):\n",
    "    for i in range(1,len(nums)):\n",
    "        for j in range(i,0,-1):\n",
    "            if nums[j]<nums[j-1]:\n",
    "                nums[j],nums[j-1]=nums[j-1],nums[j]\n",
    "            else:\n",
    "                break"
   ]
  },
  {
   "cell_type": "code",
   "execution_count": 57,
   "id": "9cc8efe8",
   "metadata": {},
   "outputs": [
    {
     "name": "stdout",
     "output_type": "stream",
     "text": [
      "[5, 6, 10, 20, 30, 40]\n"
     ]
    }
   ],
   "source": [
    "nums=[5,6,10,20,30,40]\n",
    "insertion_sort1(nums)\n",
    "print(nums)"
   ]
  },
  {
   "cell_type": "code",
   "execution_count": null,
   "id": "c8e77962",
   "metadata": {},
   "outputs": [],
   "source": []
  }
 ],
 "metadata": {
  "kernelspec": {
   "display_name": "Python 3",
   "language": "python",
   "name": "python3"
  },
  "language_info": {
   "codemirror_mode": {
    "name": "ipython",
    "version": 3
   },
   "file_extension": ".py",
   "mimetype": "text/x-python",
   "name": "python",
   "nbconvert_exporter": "python",
   "pygments_lexer": "ipython3",
   "version": "3.8.8"
  }
 },
 "nbformat": 4,
 "nbformat_minor": 5
}
