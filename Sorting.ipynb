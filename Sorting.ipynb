{
 "cells": [
  {
   "cell_type": "markdown",
   "metadata": {},
   "source": [
    "# stablity in sort"
   ]
  },
  {
   "cell_type": "markdown",
   "metadata": {},
   "source": [
    "- stable sorting algorithm: bubble sort, insertion sort, merge sort,...\n",
    "- unstable sorting algorithm: selection sort, quick sort, heap sort,..."
   ]
  },
  {
   "cell_type": "code",
   "execution_count": 15,
   "metadata": {},
   "outputs": [
    {
     "name": "stdout",
     "output_type": "stream",
     "text": [
      "[('Aril', 50), ('Pyuah', 50), ('Ayan', 80), ('Ramesh', 80)]\n"
     ]
    }
   ],
   "source": [
    "people=[('Aril',50),('Ayan',80),('Pyuah',50),('Ramesh',80)]\n",
    "\n",
    "print(sorted(people,key=lambda x:x[1]))"
   ]
  },
  {
   "cell_type": "markdown",
   "metadata": {},
   "source": [
    "# bubble sort"
   ]
  },
  {
   "cell_type": "code",
   "execution_count": 25,
   "metadata": {},
   "outputs": [],
   "source": [
    "# T/C\n",
    "# best case: O(n), when already sorted\n",
    "# worst case: O(n^2)\n",
    "# average case: O(n^2)\n",
    "\n",
    "\n",
    "# basic\n",
    "def bubble_sort1(nums):\n",
    "    for i in range(len(nums)-1):\n",
    "        for j in range(len(nums)-i-1):\n",
    "            if nums[j]>nums[j+1]:\n",
    "                nums[j],nums[j+1]=nums[j+1],nums[j]\n",
    "        #print(nums)\n",
    "\n",
    "# optimized\n",
    "def bubble_sort2(nums):\n",
    "    for i in range(len(nums)-1):\n",
    "        for j in range(len(nums)-i-1):\n",
    "            if nums[j]>nums[j+1]:\n",
    "                nums[j],nums[j+1]=nums[j+1],nums[j]\n",
    "\n",
    "# best optimized_ when already sorted \n",
    "def bubble_sort3(nums):\n",
    "    for i in range(len(nums)-1):\n",
    "        swapped=False\n",
    "        for j in range(len(nums)-i-1):\n",
    "            if nums[j]>nums[j+1]:\n",
    "                nums[j],nums[j+1]=nums[j+1],nums[j]\n",
    "                swapped=True\n",
    "        if not swappted: # check already sorted in every pass\n",
    "            break"
   ]
  },
  {
   "cell_type": "code",
   "execution_count": 26,
   "metadata": {},
   "outputs": [
    {
     "name": "stdout",
     "output_type": "stream",
     "text": [
      "[5, 8, 10, 20]\n"
     ]
    }
   ],
   "source": [
    "nums=[10,8,20,5]\n",
    "bubble_sort1(nums)\n",
    "print(nums)"
   ]
  },
  {
   "cell_type": "markdown",
   "metadata": {},
   "source": [
    "# selection sort"
   ]
  },
  {
   "cell_type": "code",
   "execution_count": 43,
   "metadata": {},
   "outputs": [],
   "source": [
    "# T/C\n",
    "# O(n^2)\n",
    "\n",
    "# naive\n",
    "def selection_sort1(nums):\n",
    "    tmp=[0 for i in range(len(nums))]\n",
    "    \n",
    "    for i in range(len(tmp)):\n",
    "        min_idx=0\n",
    "        for j in range(1,len(nums)):\n",
    "            if nums[j]<nums[min_idx]:\n",
    "                min_idx=j\n",
    "        tmp[i]=nums[min_idx]\n",
    "        nums[min_idx]=float('inf')\n",
    "    \n",
    "    for i in range(len(nums)):\n",
    "        nums[i]=tmp[i]\n",
    "\n",
    "# efficient solution_in-place\n",
    "def selection_sort2(nums):\n",
    "    for i in range(len(nums)-1):\n",
    "        min_idx=i\n",
    "        for j in range(i+1,len(nums)):\n",
    "            if nums[min_idx]>nums[j]:\n",
    "                min_idx=j\n",
    "        nums[i],nums[min_idx]=nums[min_idx],nums[i]\n"
   ]
  },
  {
   "cell_type": "code",
   "execution_count": 44,
   "metadata": {},
   "outputs": [
    {
     "name": "stdout",
     "output_type": "stream",
     "text": [
      "[2, 5, 8, 10, 18, 20]\n"
     ]
    }
   ],
   "source": [
    "nums=[10,5,8,20,2,18]\n",
    "selection_sort2(nums)\n",
    "print(nums)"
   ]
  },
  {
   "cell_type": "markdown",
   "metadata": {},
   "source": [
    "# insertion sort"
   ]
  },
  {
   "cell_type": "code",
   "execution_count": 56,
   "metadata": {},
   "outputs": [],
   "source": [
    "# T/C\n",
    "# worst case: O(n^2), when reversed order\n",
    "# best case: O(n), when already sorted\n",
    "# average case: O(n^2)\n",
    "\n",
    "def insertion_sort1(nums):\n",
    "    for i in range(1,len(nums)):\n",
    "        key=nums[i]\n",
    "        j=i-1\n",
    "        while j>=0 and nums[j]>key:\n",
    "            nums[j+1]=nums[j]\n",
    "            j-=1\n",
    "        nums[j+1]=key\n",
    "        \n",
    "    \n",
    "def insertion_sort2(nums):\n",
    "    for i in range(1,len(nums)):\n",
    "        for j in range(i,0,-1):\n",
    "            if nums[j]<nums[j-1]:\n",
    "                nums[j],nums[j-1]=nums[j-1],nums[j]\n",
    "            else:\n",
    "                break"
   ]
  },
  {
   "cell_type": "code",
   "execution_count": 57,
   "metadata": {},
   "outputs": [
    {
     "name": "stdout",
     "output_type": "stream",
     "text": [
      "[5, 6, 10, 20, 30, 40]\n"
     ]
    }
   ],
   "source": [
    "nums=[5,6,10,20,30,40]\n",
    "insertion_sort1(nums)\n",
    "print(nums)"
   ]
  },
  {
   "cell_type": "markdown",
   "metadata": {},
   "source": [
    "# merge sort"
   ]
  },
  {
   "cell_type": "markdown",
   "metadata": {},
   "source": [
    "###### merge two sorted array"
   ]
  },
  {
   "cell_type": "code",
   "execution_count": 15,
   "metadata": {},
   "outputs": [],
   "source": [
    "# naive solution\n",
    "# T/C: O((m+n)log(m+n))\n",
    "# S/C: O(m+n)\n",
    "def merge1(nums1,nums2):\n",
    "    ret=nums1.copy()\n",
    "    for num in nums2:\n",
    "        ret.append(num)\n",
    "    \n",
    "    ret.sort()\n",
    "    return ret\n",
    "\n",
    "# linear solution\n",
    "# T/C: O(m+n)\n",
    "# S/C: O(m+n)\n",
    "def merge2(nums1,nums2):\n",
    "    ret=[]\n",
    "    \n",
    "    r1,r2=0,0\n",
    "    while r1<len(nums1) and r2<len(nums2):\n",
    "        if nums1[r1]>=nums2[r2]:\n",
    "            ret.append(nums2[r2])\n",
    "            r2+=1\n",
    "        else:\n",
    "            ret.append(nums1[r1])\n",
    "            r1+=1\n",
    "    \n",
    "    while r1<len(nums1):\n",
    "        ret.append(nums1[r1])\n",
    "        r1+=1\n",
    "    while r2<len(nums2):\n",
    "        ret.append(nums2[r2])\n",
    "        r2+=1\n",
    "    return ret"
   ]
  },
  {
   "cell_type": "code",
   "execution_count": 16,
   "metadata": {},
   "outputs": [
    {
     "name": "stdout",
     "output_type": "stream",
     "text": [
      "[5, 6, 6, 10, 15, 15, 20]\n"
     ]
    }
   ],
   "source": [
    "nums1=[10,15,20]\n",
    "nums2=[5,6,6,15]\n",
    "print(merge2(nums1,nums2))"
   ]
  },
  {
   "cell_type": "markdown",
   "metadata": {},
   "source": [
    "###### merge function of merge sort\n",
    "- I/P: [...,10,15,20,11,30,...], low,mid,high\n",
    "- nums[low]=10,nums[mid]=20,nums[high]=30\n",
    "- O/P:[...,10,11,15,20,30,...]\n",
    "- constraints: low<=mid<high"
   ]
  },
  {
   "cell_type": "code",
   "execution_count": 19,
   "metadata": {},
   "outputs": [],
   "source": [
    "def merge(nums,low,mid,high):\n",
    "    left,right=[],[]\n",
    "    for i in range(low,mid+1):\n",
    "        left.append(nums[i])\n",
    "    for i in range(mid+1,high+1):\n",
    "        right.append(nums[i])\n",
    "    \n",
    "    r1,r2=0,0\n",
    "    w=low\n",
    "    while r1<len(left) and r2<len(right):\n",
    "        if left[r1]>=right[r2]:\n",
    "            nums[w]=right[r2]\n",
    "            r2+=1\n",
    "        else:\n",
    "            nums[w]=left[r1]\n",
    "            r1+=1\n",
    "        w+=1\n",
    "    while r1<len(left):\n",
    "        nums[w]=left[r1]\n",
    "        r1+=1\n",
    "        w+=1\n",
    "    while r2<len(right):\n",
    "        nums[w]=right[r2]\n",
    "        r2+=1\n",
    "        w+=1"
   ]
  },
  {
   "cell_type": "code",
   "execution_count": 20,
   "metadata": {},
   "outputs": [
    {
     "data": {
      "text/plain": [
       "[53, 51, 8, 10, 11, 15, 20, 30, 5, 63, 7, 89]"
      ]
     },
     "execution_count": 20,
     "metadata": {},
     "output_type": "execute_result"
    }
   ],
   "source": [
    "nums=[53,51,8,10,15,20,11,30,5,63,7,89]\n",
    "merge(nums,3,5,7)\n",
    "nums"
   ]
  },
  {
   "cell_type": "markdown",
   "metadata": {},
   "source": [
    "###### merge sort "
   ]
  },
  {
   "cell_type": "code",
   "execution_count": 21,
   "metadata": {},
   "outputs": [],
   "source": [
    "# T/C: O(nlogn)\n",
    "# S/C: O(n), because space allocated and then, deallocated after sorted\n",
    "def merge_sort(nums,l,r):\n",
    "    if r>l: # at least 2 elements\n",
    "        mid=l+(r-l)//2\n",
    "        merge_sort(nums,l,mid)\n",
    "        merge_sort(nums,mid+1,r)\n",
    "        merge(nums,l,mid,r)        "
   ]
  },
  {
   "cell_type": "code",
   "execution_count": 22,
   "metadata": {},
   "outputs": [
    {
     "data": {
      "text/plain": [
       "[5, 7, 8, 10, 11, 15, 20, 30, 51, 53, 63, 89]"
      ]
     },
     "execution_count": 22,
     "metadata": {},
     "output_type": "execute_result"
    }
   ],
   "source": [
    "nums=[53,51,8,10,15,20,11,30,5,63,7,89]\n",
    "merge_sort(nums,0,len(nums)-1)\n",
    "nums"
   ]
  },
  {
   "cell_type": "markdown",
   "metadata": {},
   "source": [
    "# intersection of two sorted array"
   ]
  },
  {
   "cell_type": "markdown",
   "metadata": {},
   "source": [
    "- I/P: [3,5,10,10,10,15,15,20], [5,10,10,15,30]\n",
    "- O/P: 5 10 15"
   ]
  },
  {
   "cell_type": "code",
   "execution_count": 8,
   "metadata": {},
   "outputs": [],
   "source": [
    "# brute force solution\n",
    "# T/C: O(m*n)\n",
    "# S/C: O(inter(nums1,nums2))\n",
    "def intersection1(nums1,nums2):\n",
    "    inter=[]\n",
    "    for i in range(len(nums1)):\n",
    "        if i>0 and nums1[i]==nums1[i-1]:\n",
    "            continue\n",
    "        for j in range(len(nums2)):\n",
    "            if nums1[i]==nums2[j]:\n",
    "                inter.append(nums1[i])\n",
    "                break\n",
    "    return inter"
   ]
  },
  {
   "cell_type": "code",
   "execution_count": 9,
   "metadata": {},
   "outputs": [],
   "source": [
    "# linear solution\n",
    "# T/C: O(m+n)\n",
    "# S/C: O(inter(nums1,nums2))\n",
    "def intersection2(nums1,nums2):\n",
    "    inter=[]\n",
    "    r1,r2=0,0\n",
    "    while r1<len(nums1) and r2<len(nums2):\n",
    "        if nums1[r1]==nums2[r2]:\n",
    "            inter_num=nums1[r1]\n",
    "            inter.append(inter_num)\n",
    "            while nums1[r1]==inter_num:\n",
    "                r1+=1\n",
    "            while nums2[r2]==inter_num:\n",
    "                r2+=1\n",
    "        elif nums1[r1]>nums2[r2]:\n",
    "            r2+=1\n",
    "        else:\n",
    "            r1+=1\n",
    "    return inter"
   ]
  },
  {
   "cell_type": "code",
   "execution_count": 11,
   "metadata": {},
   "outputs": [
    {
     "name": "stdout",
     "output_type": "stream",
     "text": [
      "[20]\n"
     ]
    }
   ],
   "source": [
    "nums1=[2,20,20,40,60]\n",
    "nums2=[10,20,20,20]\n",
    "print(intersection1(nums1,nums2))"
   ]
  },
  {
   "cell_type": "markdown",
   "metadata": {},
   "source": [
    "# union of two sorted array"
   ]
  },
  {
   "cell_type": "markdown",
   "metadata": {},
   "source": [
    "- I/P: [3,5,8], [2,8,9,10,15]\n",
    "- O/P: [2,3,5,8,9,10,15]"
   ]
  },
  {
   "cell_type": "code",
   "execution_count": 5,
   "metadata": {},
   "outputs": [],
   "source": [
    "# T/C: O((m+n)log(m+n))\n",
    "def union1(nums1,nums2):\n",
    "    union=[num for num in nums1]\n",
    "    for num in nums2:\n",
    "        union.append(num)\n",
    "    union.sort()\n",
    "    \n",
    "    # remove duplicates\n",
    "    w,r=0,0\n",
    "    cur_num=float('inf')\n",
    "    while r<len(union):\n",
    "        if cur_num!=union[r]:\n",
    "            union[w]=union[r]\n",
    "            cur_num=union[r]\n",
    "            r+=1\n",
    "            w+=1\n",
    "        else:\n",
    "            r+=1\n",
    "    return union[:w]"
   ]
  },
  {
   "cell_type": "code",
   "execution_count": 18,
   "metadata": {},
   "outputs": [],
   "source": [
    "# T/C: O(m+n)\n",
    "def union2(nums1,nums2):\n",
    "    i,j=0,0\n",
    "    union=[]\n",
    "    while i<len(nums1) and j<len(nums2):\n",
    "        if i>0 and nums1[i]==nums1[i-1]:\n",
    "            i+=1\n",
    "            continue\n",
    "        if j>0 and nums2[j]==nums2[j-1]:\n",
    "            j+=1\n",
    "            continue\n",
    "            \n",
    "        if nums1[i]==nums2[j]:\n",
    "            union.append(nums1[i])\n",
    "            i+=1\n",
    "            j+=1\n",
    "        elif nums1[i]>nums2[j]:\n",
    "            union.append(nums2[j])\n",
    "            j+=1\n",
    "        else:\n",
    "            union.append(nums1[i])\n",
    "            i+=1\n",
    "    while i<len(nums1):\n",
    "        if i>0 and nums1[i]==nums1[i-1]:\n",
    "            i+=1\n",
    "            continue\n",
    "        union.append(nums1[i])\n",
    "        i+=1\n",
    "    while j<len(nums2):\n",
    "        if j>0 and nums2[j]==nums2[j-1]:\n",
    "            j+=1\n",
    "            continue\n",
    "        union.append(nums2[j])\n",
    "        j+=1\n",
    "    return union"
   ]
  },
  {
   "cell_type": "code",
   "execution_count": 19,
   "metadata": {},
   "outputs": [
    {
     "data": {
      "text/plain": [
       "[2, 3, 5, 8, 9, 10, 15]"
      ]
     },
     "execution_count": 19,
     "metadata": {},
     "output_type": "execute_result"
    }
   ],
   "source": [
    "nums1,nums2=[3,5,8,8,8,8],[2,8,8,8,8,8,8,9,10,15]\n",
    "union2(nums1,nums2)"
   ]
  },
  {
   "cell_type": "markdown",
   "metadata": {},
   "source": [
    "# count inversions in an array"
   ]
  },
  {
   "cell_type": "markdown",
   "metadata": {},
   "source": [
    "- A pair(nums[i], nums[j]) forms an inversion when i<j and nums[i]>nums[j]"
   ]
  },
  {
   "cell_type": "markdown",
   "metadata": {},
   "source": [
    "- I/P: [2,4,1,3,5]\n",
    "- O/P: 3"
   ]
  },
  {
   "cell_type": "markdown",
   "metadata": {},
   "source": [
    "- I/P: [10,20,30,45]\n",
    "- O/P: 0"
   ]
  },
  {
   "cell_type": "markdown",
   "metadata": {},
   "source": [
    "- I/P: [40,30,20,10]\n",
    "- O/P: 6"
   ]
  },
  {
   "cell_type": "code",
   "execution_count": 50,
   "metadata": {},
   "outputs": [],
   "source": [
    "# brute force solution\n",
    "# T/C: O(n^2)\n",
    "def countInversion1(nums):\n",
    "    count=0\n",
    "    for i in range(len(nums)-1):\n",
    "        for j in range(i+1,len(nums)):\n",
    "            if nums[i]>nums[j]:\n",
    "                count+=1\n",
    "    return count"
   ]
  },
  {
   "cell_type": "code",
   "execution_count": 51,
   "metadata": {},
   "outputs": [],
   "source": [
    "# merge sort solution\n",
    "# T/C: O(nlogn)\n",
    "# S/C: O(n) for merge sort\n",
    "def countInversion2(nums):\n",
    "    count=[0]\n",
    "    def merge_sort(nums,l,r,count):\n",
    "        if l<r:\n",
    "            m=l+(r-l)//2\n",
    "            merge_sort(nums,l,m,count)\n",
    "            merge_sort(nums,m+1,r,count)\n",
    "            merge(nums,l,m,r,count)\n",
    "    def merge(nums,l,m,r,count):\n",
    "        left=nums[l:m+1]\n",
    "        right=nums[m+1:r+1]\n",
    "        \n",
    "        r1,r2=0,0\n",
    "        w=l\n",
    "        var1=0\n",
    "        while r1<len(left) and r2<len(right):\n",
    "            if left[r1]>=right[r2]:\n",
    "                var1+=1\n",
    "                nums[w]=right[r2]\n",
    "                w+=1\n",
    "                r2+=1\n",
    "            else:\n",
    "                nums[w]=left[r1]\n",
    "                w+=1\n",
    "                r1+=1\n",
    "        var2=0\n",
    "        while r1<len(left):\n",
    "            var2+=1\n",
    "            nums[w]=left[r1]\n",
    "            w+=1\n",
    "            r1+=1\n",
    "        while r2<len(right):\n",
    "            nums[w]=right[r2]\n",
    "            w+=1\n",
    "            r2+=1\n",
    "        if var2!=0:\n",
    "            count[0]+=var1*var2\n",
    "        else:\n",
    "            count[0]+=var1\n",
    "    merge_sort(nums,0,len(nums)-1,count)\n",
    "    return count[0]"
   ]
  },
  {
   "cell_type": "code",
   "execution_count": 52,
   "metadata": {},
   "outputs": [],
   "source": [
    "# optimized code\n",
    "# T/C: O(nlogn)\n",
    "# S/C: O(n) for merge sort\n",
    "def countAndMerge(nums,l,m,r):\n",
    "    left=nums[l:m+1]\n",
    "    right=nums[m+1:r+1]\n",
    "    \n",
    "    result=0\n",
    "    i,j=0,0\n",
    "    w=l\n",
    "    while i<len(left) and j<len(right):\n",
    "        if left[i]<=right[j]:\n",
    "            nums[w]=left[i]\n",
    "            w+=1\n",
    "            i+=1\n",
    "        else:\n",
    "            nums[w]=right[j]\n",
    "            w+=1\n",
    "            j+=1\n",
    "            result+=len(left)-i # count part\n",
    "    while i<len(left):\n",
    "        nums[w]=left[i]\n",
    "        w+=1\n",
    "        i+=1\n",
    "    while j<len(right):\n",
    "        nums[w]=right[j]\n",
    "        w+=1\n",
    "        j+=1\n",
    "    return result\n",
    "\n",
    "def countInversion(nums,l,r):\n",
    "    result=0\n",
    "    if l<r:\n",
    "        m=l+(r-l)//2\n",
    "        result+=countInversion(nums,l,m)\n",
    "        result+=countInversion(nums,m+1,r)\n",
    "        result+=countAndMerge(nums,l,m,r)\n",
    "    return result"
   ]
  },
  {
   "cell_type": "code",
   "execution_count": 53,
   "metadata": {},
   "outputs": [
    {
     "data": {
      "text/plain": [
       "10"
      ]
     },
     "execution_count": 53,
     "metadata": {},
     "output_type": "execute_result"
    }
   ],
   "source": [
    "nums=[50,40,30,20,10]\n",
    "countInversion(nums,0,len(nums)-1)"
   ]
  },
  {
   "cell_type": "markdown",
   "metadata": {},
   "source": [
    "# partition for quick sort"
   ]
  },
  {
   "cell_type": "markdown",
   "metadata": {},
   "source": [
    "###### naive partition"
   ]
  },
  {
   "cell_type": "code",
   "execution_count": 2,
   "metadata": {},
   "outputs": [],
   "source": [
    "# [3,8,6,12,10,7]\n",
    "# T/C: O(n)\n",
    "# S/C: O(n)\n",
    "def partition1(nums,low,high,p): # p==pivot index\n",
    "    tmp=[]\n",
    "    for i in range(low,high+1):\n",
    "        if nums[i]<nums[p]:\n",
    "            tmp.append(nums[i])\n",
    "    for i in range(low,high+1):\n",
    "        if nums[i]==nums[p]:\n",
    "            tmp.append(nums[i])\n",
    "    result=len(tmp)-1\n",
    "    for i in range(low,high+1):\n",
    "        if nums[i]>nums[p]:\n",
    "            tmp.append(nums[i])\n",
    "    j=0\n",
    "    for i in range(low,high+1):\n",
    "        nums[i]=tmp[j]\n",
    "        j+=1\n",
    "    return result"
   ]
  },
  {
   "cell_type": "code",
   "execution_count": 3,
   "metadata": {},
   "outputs": [
    {
     "name": "stdout",
     "output_type": "stream",
     "text": [
      "None\n",
      "[2, 7, 3, 7, 8]\n"
     ]
    }
   ],
   "source": [
    "nums=[2,7,8,3,7]\n",
    "print(partition(nums,0,len(nums)-1,4))\n",
    "print(nums)"
   ]
  },
  {
   "cell_type": "markdown",
   "metadata": {},
   "source": [
    "###### lomuto partition"
   ]
  },
  {
   "cell_type": "code",
   "execution_count": 8,
   "metadata": {},
   "outputs": [],
   "source": [
    "# T/C: O(n), one pass\n",
    "# S/C: O(1) \n",
    "def partition2(nums,low,high): \n",
    "    pivot=nums[high]  # consider pivot is always last element\n",
    "    \n",
    "    i=low-1 # window which smaller than pivot\n",
    "    for j in range(low,high):\n",
    "        if nums[j]<pivot:\n",
    "            i+=1\n",
    "            nums[i],nums[j]=nums[j],nums[i]\n",
    "    nums[i+1],nums[high]=nums[high],nums[i+1]\n",
    "    return i+1\n"
   ]
  },
  {
   "cell_type": "code",
   "execution_count": 6,
   "metadata": {},
   "outputs": [
    {
     "data": {
      "text/plain": [
       "[3, 4, 2, 1, 5, 7, 10, 8]"
      ]
     },
     "execution_count": 6,
     "metadata": {},
     "output_type": "execute_result"
    }
   ],
   "source": [
    "nums=[10,3,8,4,2,7,1,5]\n",
    "partition2(nums,0,len(nums)-1)\n",
    "nums"
   ]
  },
  {
   "cell_type": "markdown",
   "metadata": {},
   "source": [
    "###### hoare partition"
   ]
  },
  {
   "cell_type": "code",
   "execution_count": 1,
   "metadata": {},
   "outputs": [],
   "source": [
    "# T/C: O(n)\n",
    "# S/C: O(1)\n",
    "# pivot element may not be placed partition position\n",
    "# example, [5,3,8,4,2,7,1,10] ==> [1,3,2,4,8,7,5,10]\n",
    "def partition3(nums,low,high):\n",
    "    pivot=nums[low]\n",
    "    i,j=low-1,high+1\n",
    "    while True:\n",
    "        while True:\n",
    "            i+=1\n",
    "            if nums[i]>=pivot:\n",
    "                break\n",
    "        while True:\n",
    "            j-=1\n",
    "            if nums[j]<=pivot:\n",
    "                break\n",
    "        if i>=j:\n",
    "            return j\n",
    "        nums[i],nums[j]=nums[j],nums[i]\n"
   ]
  },
  {
   "cell_type": "code",
   "execution_count": 2,
   "metadata": {},
   "outputs": [
    {
     "name": "stdout",
     "output_type": "stream",
     "text": [
      "[1, 3, 2, 4, 8, 7, 5, 10]\n"
     ]
    }
   ],
   "source": [
    "nums=[5,3,8,4,2,7,1,10]\n",
    "partition3(nums,0,len(nums)-1)\n",
    "print(nums)"
   ]
  },
  {
   "cell_type": "markdown",
   "metadata": {},
   "source": [
    "# quick sort"
   ]
  },
  {
   "cell_type": "markdown",
   "metadata": {},
   "source": [
    "- Divide and conquer algorithm\n",
    "- Worst Case O(n^2)\n",
    "- Average Case O(nlogn)\n",
    "- in-place, cache, tail recursion\n",
    "- both lomuto and hoare partition method fix pivot index, so to avoid Worst case(sorted array) just change pivot index with random number in the array"
   ]
  },
  {
   "cell_type": "code",
   "execution_count": 7,
   "metadata": {},
   "outputs": [],
   "source": [
    "# using lomuto partition\n",
    "def quick_sort1(nums,low,high):\n",
    "    if low<high:\n",
    "        pivot=partition2(nums,low,high)\n",
    "        quick_sort1(nums,low,pivot-1)\n",
    "        quick_sort1(nums,pivot+1,high)"
   ]
  },
  {
   "cell_type": "code",
   "execution_count": 10,
   "metadata": {},
   "outputs": [
    {
     "name": "stdout",
     "output_type": "stream",
     "text": [
      "[1, 2, 3, 4, 5, 7, 8, 10]\n"
     ]
    }
   ],
   "source": [
    "nums=[10,3,8,4,2,7,1,5]\n",
    "quick_sort1(nums,0,len(nums)-1)\n",
    "print(nums)"
   ]
  },
  {
   "cell_type": "code",
   "execution_count": 11,
   "metadata": {},
   "outputs": [],
   "source": [
    "# using hoare partition\n",
    "def quick_sort2(nums,low,high):\n",
    "    if low<high:\n",
    "        pivot=partition3(nums,low,high)\n",
    "        quick_sort2(nums,low,pivot)\n",
    "        quick_sort2(nums,pivot+1,high)"
   ]
  },
  {
   "cell_type": "code",
   "execution_count": 12,
   "metadata": {},
   "outputs": [
    {
     "name": "stdout",
     "output_type": "stream",
     "text": [
      "[1, 2, 3, 4, 5, 7, 8, 10]\n"
     ]
    }
   ],
   "source": [
    "nums=[10,3,8,4,2,7,1,5]\n",
    "quick_sort2(nums,0,len(nums)-1)\n",
    "print(nums)"
   ]
  },
  {
   "cell_type": "markdown",
   "metadata": {},
   "source": [
    "# k-th smallest element"
   ]
  },
  {
   "cell_type": "markdown",
   "metadata": {},
   "source": [
    "- I/P: [30,20,5,10,8], k=2\n",
    "- O/P: 8"
   ]
  },
  {
   "cell_type": "code",
   "execution_count": 4,
   "metadata": {},
   "outputs": [],
   "source": [
    "# naive solution\n",
    "# T/C: O(nlogn)\n",
    "# S/C: O(1)\n",
    "def k_smallest(nums,k):\n",
    "    nums.sort()\n",
    "    return nums[k-1]"
   ]
  },
  {
   "cell_type": "code",
   "execution_count": 5,
   "metadata": {},
   "outputs": [
    {
     "data": {
      "text/plain": [
       "8"
      ]
     },
     "execution_count": 5,
     "metadata": {},
     "output_type": "execute_result"
    }
   ],
   "source": [
    "nums=[30,20,5,10,8]\n",
    "k_smallest(nums,2)"
   ]
  },
  {
   "cell_type": "code",
   "execution_count": 15,
   "metadata": {},
   "outputs": [],
   "source": [
    "# using lomuto partition\n",
    "# T/C: O(n) for best case, O(n^2) for worst case\n",
    "# S/C: O(1)\n",
    "def k_smallest1(nums,k):\n",
    "    l,r=0,len(nums)-1\n",
    "    while l<=r:\n",
    "        pivot=partition2(nums,l,r)\n",
    "        \n",
    "        if pivot==k-1:\n",
    "            return nums[pivot]\n",
    "        \n",
    "        elif pivot<k-1:\n",
    "            l=pivot+1\n",
    "        else:\n",
    "            r=pivot-1\n",
    "    return -1"
   ]
  },
  {
   "cell_type": "code",
   "execution_count": 16,
   "metadata": {},
   "outputs": [
    {
     "data": {
      "text/plain": [
       "5"
      ]
     },
     "execution_count": 16,
     "metadata": {},
     "output_type": "execute_result"
    }
   ],
   "source": [
    "nums=[30,20,5,10,8]\n",
    "k_smallest1(nums,1)"
   ]
  },
  {
   "cell_type": "markdown",
   "metadata": {},
   "source": [
    "# chocolate distrubution problem"
   ]
  },
  {
   "cell_type": "markdown",
   "metadata": {},
   "source": [
    "- when there are chocolate packets (in the input array), and m children\n",
    "- find min diffrence of taken chocolate packets"
   ]
  },
  {
   "cell_type": "markdown",
   "metadata": {},
   "source": [
    "- I/P: [7,3,2,4,9,12,56], m=3\n",
    "- O/P: 2\n",
    "- Explain: when give 7,3,2 chocolate packets to 3 children, diffrenece between max packet and min packet is 7-2=5\n",
    "- but, when give 3,2,4 chocolate packets to 3 children, diffrence between max and min is 4-2=2\n",
    "- so return, 2"
   ]
  },
  {
   "cell_type": "code",
   "execution_count": 4,
   "metadata": {},
   "outputs": [],
   "source": [
    "# using sorting\n",
    "# T/C: O(nlogn)\n",
    "# S/C: O(1)\n",
    "def distribute_chocolate(packets,m):\n",
    "    if len(packets)<m:\n",
    "        return -1\n",
    "    sorted_packets=sorted(packets)\n",
    "    \n",
    "    min_diff=float('inf')\n",
    "    for i in range(m-1,len(packets)):\n",
    "        min_diff=min(min_diff,sorted_packets[i]-sorted_packets[i-m+1])\n",
    "    return min_diff"
   ]
  },
  {
   "cell_type": "code",
   "execution_count": 7,
   "metadata": {},
   "outputs": [
    {
     "data": {
      "text/plain": [
       "3"
      ]
     },
     "execution_count": 7,
     "metadata": {},
     "output_type": "execute_result"
    }
   ],
   "source": [
    "packets=[7,3,1,4,9,12,56]\n",
    "m=3\n",
    "distribute_chocolate(packets,m)"
   ]
  },
  {
   "cell_type": "markdown",
   "metadata": {},
   "source": [
    "# sort an array with two types"
   ]
  },
  {
   "cell_type": "markdown",
   "metadata": {},
   "source": [
    "### there are several types kind of this.\n",
    "### but, just solve only the first problem, the others are similar"
   ]
  },
  {
   "cell_type": "markdown",
   "metadata": {},
   "source": [
    "###### segregate positive and negative"
   ]
  },
  {
   "cell_type": "markdown",
   "metadata": {},
   "source": [
    "- I/P: [15,-3,-2,18]\n",
    "- O/P: [-3,-2,15,18], order of negative(or positive) number dosen't matter"
   ]
  },
  {
   "cell_type": "markdown",
   "metadata": {},
   "source": [
    "###### segregate even and odd"
   ]
  },
  {
   "cell_type": "markdown",
   "metadata": {},
   "source": [
    "###### segregate a binary array"
   ]
  },
  {
   "cell_type": "code",
   "execution_count": 18,
   "metadata": {},
   "outputs": [],
   "source": [
    "# sorting\n",
    "# T/C: O(nlogn)\n",
    "# S/C: O(1)\n",
    "def segregate_pos_and_neg1(nums):\n",
    "    nums.sort()"
   ]
  },
  {
   "cell_type": "code",
   "execution_count": 19,
   "metadata": {},
   "outputs": [],
   "source": [
    "# three pass\n",
    "# T/C: O(n)\n",
    "# S/C: O(n)\n",
    "def segregate_pos_and_neg2(nums):\n",
    "    tmp=[]\n",
    "    for num in nums:\n",
    "        if num<0:\n",
    "            tmp.append(num)\n",
    "    for num in nums:\n",
    "        if num>=0:\n",
    "            tmp.append(num)\n",
    "    for i in range(len(nums)):\n",
    "        nums[i]=tmp[i]"
   ]
  },
  {
   "cell_type": "code",
   "execution_count": 20,
   "metadata": {},
   "outputs": [],
   "source": [
    "# T/C: O(n) # one-pass\n",
    "# S/C: O(1)\n",
    "def segregate_pos_and_neg2(nums):\n",
    "    writer=-1\n",
    "    reader=0\n",
    "    while reader<len(nums):\n",
    "        if nums[reader]<0:\n",
    "            writer+=1\n",
    "            nums[writer],nums[reader]=nums[reader],nums[writer]\n",
    "        else:\n",
    "            reader+=1        "
   ]
  },
  {
   "cell_type": "code",
   "execution_count": 21,
   "metadata": {},
   "outputs": [
    {
     "name": "stdout",
     "output_type": "stream",
     "text": [
      "[-3, -2, 15, 18]\n"
     ]
    }
   ],
   "source": [
    "nums=[15,-3,-2,18]\n",
    "segregate_pos_and_neg1(nums)\n",
    "print(nums)"
   ]
  },
  {
   "cell_type": "markdown",
   "metadata": {},
   "source": [
    "# sort an array with three types"
   ]
  },
  {
   "cell_type": "markdown",
   "metadata": {},
   "source": [
    "###### sort 0, 1, and 2"
   ]
  },
  {
   "cell_type": "markdown",
   "metadata": {},
   "source": [
    "- I/P: [0,1,0,2,1,2]\n",
    "- O/P: [0,0,1,1,2,2]"
   ]
  },
  {
   "cell_type": "code",
   "execution_count": 35,
   "metadata": {},
   "outputs": [],
   "source": [
    "# naive solution # 4 pass\n",
    "# T/C: O(n)\n",
    "# S/C: O(n)\n",
    "def sort_colors1(nums):\n",
    "    tmp=[]\n",
    "    for num in nums:\n",
    "        if num==0:\n",
    "            tmp.append(num)\n",
    "    for num in nums:\n",
    "        if num==1:\n",
    "            tmp.append(num)\n",
    "    for num in nums:\n",
    "        if num==2:\n",
    "            tmp.append(num)\n",
    "    for i in range(len(nums)):\n",
    "        nums[i]=tmp[i]"
   ]
  },
  {
   "cell_type": "code",
   "execution_count": 36,
   "metadata": {},
   "outputs": [],
   "source": [
    "# dutch national flag algorithm\n",
    "# T/C: O(n)\n",
    "# S/C: O(1)\n",
    "def sort_colors(nums):\n",
    "    i,j,k=0,0,len(nums)-1\n",
    "    while j<k:\n",
    "        if nums[j]==0:\n",
    "            nums[i],nums[j]=nums[j],nums[i]\n",
    "            j+=1\n",
    "            i+=1\n",
    "        elif nums[j]==2:\n",
    "            nums[j],nums[k]=nums[k],nums[j]\n",
    "            k-=1\n",
    "        else:\n",
    "            j+=1"
   ]
  },
  {
   "cell_type": "code",
   "execution_count": 25,
   "metadata": {},
   "outputs": [
    {
     "name": "stdout",
     "output_type": "stream",
     "text": [
      "[0, 0, 0, 0, 0, 1, 1, 1, 1, 1, 2, 2, 2, 2, 2, 2]\n"
     ]
    }
   ],
   "source": [
    "colors=[0,1,0,0,0,0,2,2,2,2,1,1,1,2,1,2]\n",
    "sort_colors(colors)\n",
    "print(colors)"
   ]
  },
  {
   "cell_type": "markdown",
   "metadata": {},
   "source": [
    "###### Three way partitioning"
   ]
  },
  {
   "cell_type": "markdown",
   "metadata": {},
   "source": [
    "- I/P: [2,1,2,20,10,20,1], pivot=2\n",
    "- O/P: [1,1,2,2,20,10,20]"
   ]
  },
  {
   "cell_type": "code",
   "execution_count": 28,
   "metadata": {},
   "outputs": [],
   "source": [
    "# T/C: O(n)\n",
    "# S/C: O(1)\n",
    "def three_way_partition(nums,pivot):\n",
    "    i,j,k=0,0,len(nums)-1\n",
    "    while j<k:\n",
    "        if nums[j]<pivot:\n",
    "            nums[i],nums[j]=nums[j],nums[i]\n",
    "            i+=1\n",
    "            j+=1\n",
    "        elif nums[j]>pivot:\n",
    "            nums[j],nums[k]=nums[k],nums[j]\n",
    "            k-=1\n",
    "        else:\n",
    "            j+=1"
   ]
  },
  {
   "cell_type": "code",
   "execution_count": 37,
   "metadata": {},
   "outputs": [
    {
     "name": "stdout",
     "output_type": "stream",
     "text": [
      "[1, 1, 2, 2, 20, 10, 20]\n"
     ]
    }
   ],
   "source": [
    "nums=[2,1,2,20,10,20,1]\n",
    "pivot=2\n",
    "three_way_partition(nums,pivot)\n",
    "print(nums)"
   ]
  },
  {
   "cell_type": "markdown",
   "metadata": {},
   "source": [
    "###### partition around a range"
   ]
  },
  {
   "cell_type": "markdown",
   "metadata": {},
   "source": [
    "- I/P: [10,5,6,3,20,9,40], range=[5,10]\n",
    "- O/O: [3,5,6,9,10,20,40]"
   ]
  },
  {
   "cell_type": "code",
   "execution_count": 38,
   "metadata": {},
   "outputs": [],
   "source": [
    "# T/C: O(n)\n",
    "# S/C: O(1)\n",
    "def partition_range(nums,scope):\n",
    "    i,j,k=0,0,len(nums)-1\n",
    "    while j<k:\n",
    "        if scope[0]>nums[j]:\n",
    "            nums[i],nums[j]=nums[j],nums[i]\n",
    "            i+=1\n",
    "            j+=1\n",
    "        elif nums[j]>scope[1]:\n",
    "            nums[j],nums[k]=nums[k],nums[j]\n",
    "            k-=1\n",
    "        else:\n",
    "            j+=1"
   ]
  },
  {
   "cell_type": "code",
   "execution_count": 39,
   "metadata": {},
   "outputs": [
    {
     "name": "stdout",
     "output_type": "stream",
     "text": [
      "[3, 2, 4, 1, 5, 9, 6, 10, 50, 20, 40, 20]\n"
     ]
    }
   ],
   "source": [
    "nums=[10,5,6,3,20,9,40,20,50,1,4,2]\n",
    "scope=(5,10)\n",
    "partition_range(nums,scope)\n",
    "print(nums)"
   ]
  },
  {
   "cell_type": "code",
   "execution_count": null,
   "metadata": {},
   "outputs": [],
   "source": []
  }
 ],
 "metadata": {
  "kernelspec": {
   "display_name": "Python 3",
   "language": "python",
   "name": "python3"
  },
  "language_info": {
   "codemirror_mode": {
    "name": "ipython",
    "version": 3
   },
   "file_extension": ".py",
   "mimetype": "text/x-python",
   "name": "python",
   "nbconvert_exporter": "python",
   "pygments_lexer": "ipython3",
   "version": "3.8.5"
  }
 },
 "nbformat": 4,
 "nbformat_minor": 5
}
